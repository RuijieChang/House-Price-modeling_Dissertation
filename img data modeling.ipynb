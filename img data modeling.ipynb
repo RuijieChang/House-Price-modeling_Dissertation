{
 "cells": [
  {
   "cell_type": "code",
   "execution_count": 1,
   "metadata": {
    "_cell_guid": "b1076dfc-b9ad-4769-8c92-a6c4dae69d19",
    "_uuid": "8f2839f25d086af736a60e9eeb907d3b93b6e0e5",
    "execution": {
     "iopub.execute_input": "2022-08-03T12:51:43.466044Z",
     "iopub.status.busy": "2022-08-03T12:51:43.464257Z",
     "iopub.status.idle": "2022-08-03T12:51:48.438576Z",
     "shell.execute_reply": "2022-08-03T12:51:48.435731Z",
     "shell.execute_reply.started": "2022-08-03T12:51:43.465909Z"
    }
   },
   "outputs": [
    {
     "name": "stderr",
     "output_type": "stream",
     "text": [
      "C:\\Users\\ruijiec\\Anaconda3\\lib\\site-packages\\pandas\\compat\\_optional.py:138: UserWarning: Pandas requires version '2.7.0' or newer of 'numexpr' (version '2.6.8' currently installed).\n",
      "  warnings.warn(msg, UserWarning)\n"
     ]
    }
   ],
   "source": [
    "import numpy as np # linear algebra\n",
    "import pandas as pd # data processing, CSV file I/O (e.g. pd.read_csv)\n",
    "import os\n",
    "import math\n",
    "\n",
    "from PIL import Image\n",
    "from numpy import asarray\n",
    "\n",
    "import torch\n",
    "from torch import nn\n",
    "from torch.nn import functional as F\n",
    "import torchvision\n",
    "import torchvision.transforms as transforms\n",
    "\n",
    "from sklearn.model_selection import train_test_split\n",
    "from mlxtend.plotting import plot_confusion_matrix\n",
    "from sklearn.metrics import confusion_matrix, classification_report\n",
    "from catboost import Pool, CatBoostClassifier\n",
    "from sklearn.metrics import roc_curve\n",
    "from sklearn.metrics import roc_auc_score\n",
    "\n",
    "import matplotlib.pyplot as plt\n",
    "import cv2\n",
    "# processing\n",
    "from sklearn.model_selection import train_test_split\n",
    "\n",
    "\n",
    "# for dirname, _, filenames in os.walk('/kaggle/input'):\n",
    "#     for filename in filenames:\n",
    "#         print(os.path.join(dirname, filename))\n",
    "\n"
   ]
  },
  {
   "cell_type": "code",
   "execution_count": 2,
   "metadata": {
    "execution": {
     "iopub.execute_input": "2022-08-03T12:51:48.449465Z",
     "iopub.status.busy": "2022-08-03T12:51:48.448440Z",
     "iopub.status.idle": "2022-08-03T12:51:48.744212Z",
     "shell.execute_reply": "2022-08-03T12:51:48.742713Z",
     "shell.execute_reply.started": "2022-08-03T12:51:48.449404Z"
    }
   },
   "outputs": [
    {
     "name": "stdout",
     "output_type": "stream",
     "text": [
      "(15474, 8)\n"
     ]
    },
    {
     "data": {
      "text/html": [
       "<div>\n",
       "<style scoped>\n",
       "    .dataframe tbody tr th:only-of-type {\n",
       "        vertical-align: middle;\n",
       "    }\n",
       "\n",
       "    .dataframe tbody tr th {\n",
       "        vertical-align: top;\n",
       "    }\n",
       "\n",
       "    .dataframe thead th {\n",
       "        text-align: right;\n",
       "    }\n",
       "</style>\n",
       "<table border=\"1\" class=\"dataframe\">\n",
       "  <thead>\n",
       "    <tr style=\"text-align: right;\">\n",
       "      <th></th>\n",
       "      <th>image_id</th>\n",
       "      <th>street</th>\n",
       "      <th>citi</th>\n",
       "      <th>n_citi</th>\n",
       "      <th>bed</th>\n",
       "      <th>bath</th>\n",
       "      <th>sqft</th>\n",
       "      <th>price</th>\n",
       "    </tr>\n",
       "  </thead>\n",
       "  <tbody>\n",
       "    <tr>\n",
       "      <th>0</th>\n",
       "      <td>0</td>\n",
       "      <td>1317 Van Buren Avenue</td>\n",
       "      <td>Salton City, CA</td>\n",
       "      <td>317</td>\n",
       "      <td>3</td>\n",
       "      <td>2.0</td>\n",
       "      <td>1560</td>\n",
       "      <td>201900</td>\n",
       "    </tr>\n",
       "    <tr>\n",
       "      <th>1</th>\n",
       "      <td>1</td>\n",
       "      <td>124 C Street W</td>\n",
       "      <td>Brawley, CA</td>\n",
       "      <td>48</td>\n",
       "      <td>3</td>\n",
       "      <td>2.0</td>\n",
       "      <td>713</td>\n",
       "      <td>228500</td>\n",
       "    </tr>\n",
       "    <tr>\n",
       "      <th>2</th>\n",
       "      <td>2</td>\n",
       "      <td>2304 Clark Road</td>\n",
       "      <td>Imperial, CA</td>\n",
       "      <td>152</td>\n",
       "      <td>3</td>\n",
       "      <td>1.0</td>\n",
       "      <td>800</td>\n",
       "      <td>273950</td>\n",
       "    </tr>\n",
       "    <tr>\n",
       "      <th>3</th>\n",
       "      <td>3</td>\n",
       "      <td>755 Brawley Avenue</td>\n",
       "      <td>Brawley, CA</td>\n",
       "      <td>48</td>\n",
       "      <td>3</td>\n",
       "      <td>1.0</td>\n",
       "      <td>1082</td>\n",
       "      <td>350000</td>\n",
       "    </tr>\n",
       "    <tr>\n",
       "      <th>4</th>\n",
       "      <td>4</td>\n",
       "      <td>2207 R Carrillo Court</td>\n",
       "      <td>Calexico, CA</td>\n",
       "      <td>55</td>\n",
       "      <td>4</td>\n",
       "      <td>3.0</td>\n",
       "      <td>2547</td>\n",
       "      <td>385100</td>\n",
       "    </tr>\n",
       "  </tbody>\n",
       "</table>\n",
       "</div>"
      ],
      "text/plain": [
       "   image_id                 street             citi  n_citi  bed  bath  sqft  \\\n",
       "0         0  1317 Van Buren Avenue  Salton City, CA     317    3   2.0  1560   \n",
       "1         1         124 C Street W      Brawley, CA      48    3   2.0   713   \n",
       "2         2        2304 Clark Road     Imperial, CA     152    3   1.0   800   \n",
       "3         3     755 Brawley Avenue      Brawley, CA      48    3   1.0  1082   \n",
       "4         4  2207 R Carrillo Court     Calexico, CA      55    4   3.0  2547   \n",
       "\n",
       "    price  \n",
       "0  201900  \n",
       "1  228500  \n",
       "2  273950  \n",
       "3  350000  \n",
       "4  385100  "
      ]
     },
     "metadata": {},
     "output_type": "display_data"
    },
    {
     "name": "stdout",
     "output_type": "stream",
     "text": [
      "<class 'pandas.core.frame.DataFrame'>\n",
      "RangeIndex: 15474 entries, 0 to 15473\n",
      "Data columns (total 8 columns):\n",
      " #   Column    Non-Null Count  Dtype  \n",
      "---  ------    --------------  -----  \n",
      " 0   image_id  15474 non-null  int64  \n",
      " 1   street    15474 non-null  object \n",
      " 2   citi      15474 non-null  object \n",
      " 3   n_citi    15474 non-null  int64  \n",
      " 4   bed       15474 non-null  int64  \n",
      " 5   bath      15474 non-null  float64\n",
      " 6   sqft      15474 non-null  int64  \n",
      " 7   price     15474 non-null  int64  \n",
      "dtypes: float64(1), int64(5), object(2)\n",
      "memory usage: 967.2+ KB\n"
     ]
    },
    {
     "data": {
      "text/plain": [
       "None"
      ]
     },
     "metadata": {},
     "output_type": "display_data"
    },
    {
     "data": {
      "text/html": [
       "<div>\n",
       "<style scoped>\n",
       "    .dataframe tbody tr th:only-of-type {\n",
       "        vertical-align: middle;\n",
       "    }\n",
       "\n",
       "    .dataframe tbody tr th {\n",
       "        vertical-align: top;\n",
       "    }\n",
       "\n",
       "    .dataframe thead th {\n",
       "        text-align: right;\n",
       "    }\n",
       "</style>\n",
       "<table border=\"1\" class=\"dataframe\">\n",
       "  <thead>\n",
       "    <tr style=\"text-align: right;\">\n",
       "      <th></th>\n",
       "      <th>image_id</th>\n",
       "      <th>n_citi</th>\n",
       "      <th>bed</th>\n",
       "      <th>bath</th>\n",
       "      <th>sqft</th>\n",
       "      <th>price</th>\n",
       "    </tr>\n",
       "  </thead>\n",
       "  <tbody>\n",
       "    <tr>\n",
       "      <th>count</th>\n",
       "      <td>15474.000000</td>\n",
       "      <td>15474.000000</td>\n",
       "      <td>15474.000000</td>\n",
       "      <td>15474.000000</td>\n",
       "      <td>15474.000000</td>\n",
       "      <td>1.547400e+04</td>\n",
       "    </tr>\n",
       "    <tr>\n",
       "      <th>mean</th>\n",
       "      <td>7736.500000</td>\n",
       "      <td>216.597518</td>\n",
       "      <td>3.506398</td>\n",
       "      <td>2.453251</td>\n",
       "      <td>2173.913209</td>\n",
       "      <td>7.031209e+05</td>\n",
       "    </tr>\n",
       "    <tr>\n",
       "      <th>std</th>\n",
       "      <td>4467.103368</td>\n",
       "      <td>112.372985</td>\n",
       "      <td>1.034838</td>\n",
       "      <td>0.958742</td>\n",
       "      <td>1025.339617</td>\n",
       "      <td>3.769762e+05</td>\n",
       "    </tr>\n",
       "    <tr>\n",
       "      <th>min</th>\n",
       "      <td>0.000000</td>\n",
       "      <td>0.000000</td>\n",
       "      <td>1.000000</td>\n",
       "      <td>0.000000</td>\n",
       "      <td>280.000000</td>\n",
       "      <td>1.950000e+05</td>\n",
       "    </tr>\n",
       "    <tr>\n",
       "      <th>25%</th>\n",
       "      <td>3868.250000</td>\n",
       "      <td>119.000000</td>\n",
       "      <td>3.000000</td>\n",
       "      <td>2.000000</td>\n",
       "      <td>1426.000000</td>\n",
       "      <td>4.450000e+05</td>\n",
       "    </tr>\n",
       "    <tr>\n",
       "      <th>50%</th>\n",
       "      <td>7736.500000</td>\n",
       "      <td>222.500000</td>\n",
       "      <td>3.000000</td>\n",
       "      <td>2.100000</td>\n",
       "      <td>1951.000000</td>\n",
       "      <td>6.390000e+05</td>\n",
       "    </tr>\n",
       "    <tr>\n",
       "      <th>75%</th>\n",
       "      <td>11604.750000</td>\n",
       "      <td>315.000000</td>\n",
       "      <td>4.000000</td>\n",
       "      <td>3.000000</td>\n",
       "      <td>2737.750000</td>\n",
       "      <td>8.349750e+05</td>\n",
       "    </tr>\n",
       "    <tr>\n",
       "      <th>max</th>\n",
       "      <td>15473.000000</td>\n",
       "      <td>414.000000</td>\n",
       "      <td>12.000000</td>\n",
       "      <td>36.000000</td>\n",
       "      <td>17667.000000</td>\n",
       "      <td>2.000000e+06</td>\n",
       "    </tr>\n",
       "  </tbody>\n",
       "</table>\n",
       "</div>"
      ],
      "text/plain": [
       "           image_id        n_citi           bed          bath          sqft  \\\n",
       "count  15474.000000  15474.000000  15474.000000  15474.000000  15474.000000   \n",
       "mean    7736.500000    216.597518      3.506398      2.453251   2173.913209   \n",
       "std     4467.103368    112.372985      1.034838      0.958742   1025.339617   \n",
       "min        0.000000      0.000000      1.000000      0.000000    280.000000   \n",
       "25%     3868.250000    119.000000      3.000000      2.000000   1426.000000   \n",
       "50%     7736.500000    222.500000      3.000000      2.100000   1951.000000   \n",
       "75%    11604.750000    315.000000      4.000000      3.000000   2737.750000   \n",
       "max    15473.000000    414.000000     12.000000     36.000000  17667.000000   \n",
       "\n",
       "              price  \n",
       "count  1.547400e+04  \n",
       "mean   7.031209e+05  \n",
       "std    3.769762e+05  \n",
       "min    1.950000e+05  \n",
       "25%    4.450000e+05  \n",
       "50%    6.390000e+05  \n",
       "75%    8.349750e+05  \n",
       "max    2.000000e+06  "
      ]
     },
     "metadata": {},
     "output_type": "display_data"
    }
   ],
   "source": [
    "data = pd.read_csv(r'C:\\Users\\ruijiec\\Downloads\\data\\socal2.csv')\n",
    "print(data.shape)\n",
    "display(data.head())\n",
    "display(data.info())\n",
    "display(data.describe())"
   ]
  },
  {
   "cell_type": "code",
   "execution_count": 3,
   "metadata": {
    "execution": {
     "iopub.execute_input": "2022-08-03T12:51:49.785778Z",
     "iopub.status.busy": "2022-08-03T12:51:49.781936Z",
     "iopub.status.idle": "2022-08-03T12:54:25.878177Z",
     "shell.execute_reply": "2022-08-03T12:54:25.876522Z",
     "shell.execute_reply.started": "2022-08-03T12:51:49.785735Z"
    }
   },
   "outputs": [
    {
     "name": "stdout",
     "output_type": "stream",
     "text": [
      "15473\n",
      "2600\n",
      "4754\n",
      "10000\n",
      "12498\n",
      "15469\n",
      "{(311, 415, 3), (350, 350, 3), (350, 525, 4)}\n",
      "177\n"
     ]
    }
   ],
   "source": [
    "print(data.image_id.max())\n",
    "imgs = []\n",
    "img_shapes = []\n",
    "c = 0\n",
    "for i in  range(data.image_id.max()):\n",
    "    try:\n",
    "        image = Image.open('C:/Users/ruijiec/Downloads/data/socal2/socal_pics/{}.jpg'.format(i))\n",
    "    #     plt.imshow(image)\n",
    "    #     plt.show()\n",
    "        img_data = asarray(image)\n",
    "    #     np.transpose(data, (2,0,1)).shape\n",
    "        imgs.append(np.transpose(img_data, (2,0,1)))\n",
    "        img_shapes.append(img_data.shape)\n",
    "        if (311, 415, 3) != img_data.shape:\n",
    "            c+=1\n",
    "    except:\n",
    "        print(i)\n",
    "    \n",
    "print(len(imgs))\n",
    "print(set(img_shapes))\n",
    "print(c)"
   ]
  },
  {
   "cell_type": "code",
   "execution_count": 4,
   "metadata": {
    "execution": {
     "iopub.execute_input": "2022-08-03T12:54:25.882696Z",
     "iopub.status.busy": "2022-08-03T12:54:25.882378Z",
     "iopub.status.idle": "2022-08-03T12:54:28.899169Z",
     "shell.execute_reply": "2022-08-03T12:54:28.896138Z",
     "shell.execute_reply.started": "2022-08-03T12:54:25.882667Z"
    }
   },
   "outputs": [
    {
     "name": "stdout",
     "output_type": "stream",
     "text": [
      "0\n",
      "1000\n",
      "2000\n",
      "3000\n",
      "4000\n",
      "5000\n",
      "6000\n",
      "7000\n",
      "8000\n",
      "9000\n",
      "10000\n",
      "11000\n",
      "12000\n",
      "13000\n",
      "14000\n",
      "15000\n",
      "181\n",
      "[0, 14, 373, 477, 482, 550, 717, 747, 752, 903, 1128, 1208, 1312, 1697, 1725, 1908, 2385, 2554, 2600, 2729, 3545, 3747, 4754, 4923, 4925, 4926, 4927, 4928, 4929, 4936, 4949, 5013, 5037, 5062, 5117, 5118, 5119, 5120, 5121, 5124, 5129, 5134, 5135, 5136, 5177, 5180, 5312, 5313, 5368, 5413, 5510, 5511, 5524, 5530, 5533, 5551, 5591, 5640, 5648, 5657, 5705, 5712, 5713, 5719, 5720, 5725, 5728, 5744, 5757, 5782, 5833, 5862, 5906, 5913, 5924, 5925, 5934, 5935, 5941, 5942, 5953, 6000, 6108, 6109, 6114, 6115, 6142, 6165, 6304, 6305, 6306, 6322, 6483, 6488, 6489, 6502, 6503, 6506, 6509, 6510, 6511, 6526, 6649, 6672, 6697, 6698, 6701, 6714, 6770, 6835, 6836, 6854, 6872, 6873, 6893, 6895, 6948, 6969, 6992, 7029, 7033, 7037, 7039, 7065, 7090, 7093, 7108, 7144, 7162, 7163, 7193, 7291, 7297, 7321, 7333, 7336, 7484, 7485, 7493, 7496, 7518, 7523, 7526, 7535, 7542, 7677, 7678, 7681, 7682, 7684, 7685, 7736, 7743, 7751, 7816, 7874, 7876, 7877, 7888, 7907, 7969, 8238, 8709, 8809, 8886, 8895, 9081, 9194, 9492, 10000, 10488, 10609, 11821, 11822, 11998, 12024, 12498, 12623, 14476, 14481, 14875]\n"
     ]
    }
   ],
   "source": [
    "exclude_list = []\n",
    "for i in  range(data.image_id.max()):\n",
    "    image = Image.open('C:/Users/ruijiec/Downloads/data/socal2/socal_pics/{}.jpg'.format(i))\n",
    "    temp = asarray(image)\n",
    "    if i%1000==0:\n",
    "        print(i)\n",
    "    if (311, 415, 3) != temp.shape:\n",
    "        exclude_list.append(i)\n",
    "\n",
    "print(len(exclude_list))\n",
    "print(exclude_list)\n",
    "\n",
    "# exclude_list = [0, 14, 373, 477, 482, 550, 717, 747, 752, 903, 1128, 1208, 1312, 1697, 1725, 1908, 2385, 2554, 2600, 2729, 3545, 3747, 4754, 4923, 4925, 4926, 4927, 4928, 4929, 4936, 4949, 5013, 5037, 5062, 5117, 5118, 5119, 5120, 5121, 5124, 5129, 5134, 5135, 5136, 5177, 5180, 5312, 5313, 5368, 5413, 5510, 5511, 5524, 5530, 5533, 5551, 5591, 5640, 5648, 5657, 5705, 5712, 5713, 5719, 5720, 5725, 5728, 5744, 5757, 5782, 5833, 5862, 5906, 5913, 5924, 5925, 5934, 5935, 5941, 5942, 5953, 6000, 6108, 6109, 6114, 6115, 6142, 6165, 6304, 6305, 6306, 6322, 6483, 6488, 6489, 6502, 6503, 6506, 6509, 6510, 6511, 6526, 6649, 6672, 6697, 6698, 6701, 6714, 6770, 6835, 6836, 6854, 6872, 6873, 6893, 6895, 6948, 6969, 6992, 7029, 7033, 7037, 7039, 7065, 7090, 7093, 7108, 7144, 7162, 7163, 7193, 7291, 7297, 7321, 7333, 7336, 7484, 7485, 7493, 7496, 7518, 7523, 7526, 7535, 7542, 7677, 7678, 7681, 7682, 7684, 7685, 7736, 7743, 7751, 7816, 7874, 7876, 7877, 7888, 7907, 7969, 8238, 8709, 8809, 8886, 8895, 9081, 9194, 9492, 10000, 10488, 10609, 11821, 11822, 11998, 12024, 12498, 12623, 14476, 14481, 14875]"
   ]
  },
  {
   "cell_type": "code",
   "execution_count": 5,
   "metadata": {
    "execution": {
     "iopub.execute_input": "2022-08-03T09:24:33.033540Z",
     "iopub.status.busy": "2022-08-03T09:24:33.033202Z",
     "iopub.status.idle": "2022-08-03T09:24:33.051018Z",
     "shell.execute_reply": "2022-08-03T09:24:33.049085Z",
     "shell.execute_reply.started": "2022-08-03T09:24:33.033512Z"
    }
   },
   "outputs": [
    {
     "data": {
      "text/plain": [
       "Series([], dtype: int64)"
      ]
     },
     "execution_count": 5,
     "metadata": {},
     "output_type": "execute_result"
    }
   ],
   "source": [
    "null_count = data.isnull().sum().sort_values(ascending = False)\n",
    "null_count = null_count[null_count>0]\n",
    "null_count"
   ]
  },
  {
   "cell_type": "code",
   "execution_count": 6,
   "metadata": {
    "execution": {
     "iopub.status.busy": "2022-08-03T12:54:28.900658Z",
     "iopub.status.idle": "2022-08-03T12:54:28.902613Z",
     "shell.execute_reply": "2022-08-03T12:54:28.902308Z",
     "shell.execute_reply.started": "2022-08-03T12:54:28.902276Z"
    }
   },
   "outputs": [
    {
     "name": "stdout",
     "output_type": "stream",
     "text": [
      "(10705, 4)\n",
      "(10705,)\n",
      "(4588, 4)\n",
      "(4588,)\n"
     ]
    }
   ],
   "source": [
    "temp = data[~data.image_id.isin(exclude_list)]\n",
    "x_train, x_test, y_train, y_test = train_test_split(temp.drop(['price', 'citi', 'street','n_citi'], axis=1), temp['price'], test_size=0.30, random_state=42)\n",
    "print(x_train.shape)\n",
    "print(y_train.shape)\n",
    "print(x_test.shape)\n",
    "print(y_test.shape)"
   ]
  },
  {
   "cell_type": "code",
   "execution_count": 7,
   "metadata": {
    "execution": {
     "iopub.execute_input": "2022-08-03T09:24:33.074228Z",
     "iopub.status.busy": "2022-08-03T09:24:33.073675Z",
     "iopub.status.idle": "2022-08-03T09:25:04.440445Z",
     "shell.execute_reply": "2022-08-03T09:25:04.438998Z",
     "shell.execute_reply.started": "2022-08-03T09:24:33.074174Z"
    }
   },
   "outputs": [
    {
     "name": "stdout",
     "output_type": "stream",
     "text": [
      "No. of images:  10705\n",
      "Wall time: 1min 33s\n"
     ]
    }
   ],
   "source": [
    "%%time\n",
    "cnt=0\n",
    "images_path='C:/Users/ruijiec/Downloads/data/socal2/socal_pics'\n",
    "x_train_images=np.zeros((x_train.shape[0],64,64,3),dtype='uint32')\n",
    "for i in x_train.image_id:\n",
    "    sample=cv2.imread(images_path+'/'+str(i)+'.jpg')\n",
    "    imgs=cv2.resize(sample,(64,64))\n",
    "    x_train_images[cnt]=imgs\n",
    "    cnt+=1\n",
    "\n",
    "print(\"No. of images: \",cnt)"
   ]
  },
  {
   "cell_type": "code",
   "execution_count": 8,
   "metadata": {
    "execution": {
     "iopub.execute_input": "2022-08-03T09:25:04.443770Z",
     "iopub.status.busy": "2022-08-03T09:25:04.442966Z",
     "iopub.status.idle": "2022-08-03T09:25:17.550368Z",
     "shell.execute_reply": "2022-08-03T09:25:17.548923Z",
     "shell.execute_reply.started": "2022-08-03T09:25:04.443725Z"
    }
   },
   "outputs": [
    {
     "name": "stdout",
     "output_type": "stream",
     "text": [
      "No. of images:  4588\n",
      "Wall time: 8.83 s\n"
     ]
    }
   ],
   "source": [
    "%%time\n",
    "cnt=0\n",
    "images_path='C:/Users/ruijiec/Downloads/data/socal2/socal_pics'\n",
    "x_test_images=np.zeros((x_test.shape[0],64,64,3),dtype='uint32')\n",
    "for i in x_test.image_id:\n",
    "    sample=cv2.imread(images_path+'/'+str(i)+'.jpg')\n",
    "    imgs=cv2.resize(sample,(64,64))\n",
    "    x_test_images[cnt]=imgs\n",
    "    cnt+=1\n",
    "\n",
    "print(\"No. of images: \",cnt)"
   ]
  },
  {
   "cell_type": "code",
   "execution_count": 9,
   "metadata": {
    "execution": {
     "iopub.execute_input": "2022-08-03T09:25:17.576394Z",
     "iopub.status.busy": "2022-08-03T09:25:17.576023Z",
     "iopub.status.idle": "2022-08-03T09:25:17.588420Z",
     "shell.execute_reply": "2022-08-03T09:25:17.586916Z",
     "shell.execute_reply.started": "2022-08-03T09:25:17.576350Z"
    }
   },
   "outputs": [],
   "source": [
    "class MyDataset_img(torch.utils.data.Dataset):\n",
    "    def __init__(self, img, y):\n",
    "        #self.x = torch.tensor(x[['n_citi', 'bed', 'bath', 'sqft']].values).float()\n",
    "        self.img = img\n",
    "        self.y = torch.tensor(y.values).float()\n",
    "\n",
    "    def __len__(self):\n",
    "        return len(self.img)\n",
    "\n",
    "    \n",
    "    def __getitem__(self, idx):\n",
    "        x = self.x[idx]\n",
    "        y = self.y[idx]\n",
    "        img = self.img[idx]\n",
    "        img = torchvision.transforms.functional.to_tensor(img.astype(np.uint8).reshape((64, 64, 3)))\n",
    "        return {'y': y, 'img': img}\n",
    "        #return {'x': x, 'y': y}\n",
    "    \n",
    "BATCH_SIZE = 256    \n",
    "train_dataset_img = MyDataset_img(x_train_images, y_train)\n",
    "dataLoader_train_img = torch.utils.data.DataLoader(train_dataset_img,\n",
    "                                               batch_size=BATCH_SIZE,\n",
    "                                               shuffle=True)\n",
    "\n",
    "test_dataset_img = MyDataset_img(x_test_images, y_test)\n",
    "dataLoader_test_img = torch.utils.data.DataLoader(test_dataset_img,\n",
    "                                              batch_size=BATCH_SIZE,\n",
    "                                              shuffle=True)\n"
   ]
  },
  {
   "cell_type": "code",
   "execution_count": 10,
   "metadata": {
    "execution": {
     "iopub.execute_input": "2022-08-03T09:25:17.591204Z",
     "iopub.status.busy": "2022-08-03T09:25:17.590383Z",
     "iopub.status.idle": "2022-08-03T09:25:17.702070Z",
     "shell.execute_reply": "2022-08-03T09:25:17.700648Z",
     "shell.execute_reply.started": "2022-08-03T09:25:17.591162Z"
    }
   },
   "outputs": [],
   "source": [
    "class MyDataset(torch.utils.data.Dataset):\n",
    "    def __init__(self, x, img, y):\n",
    "        self.x = torch.tensor(x[['bed', 'bath', 'sqft']].values).float()\n",
    "        self.img = img\n",
    "        self.y = torch.tensor(y.values).float()\n",
    "\n",
    "    def __len__(self):\n",
    "        return len(self.x)\n",
    "\n",
    "    \n",
    "    def __getitem__(self, idx):\n",
    "        x = self.x[idx]\n",
    "        y = self.y[idx]\n",
    "        img = self.img[idx]\n",
    "        img = torchvision.transforms.functional.to_tensor(img.astype(np.uint8).reshape((64, 64, 3)))\n",
    "        return {'x': x, 'y': y, 'img': img}\n",
    "    \n",
    "BATCH_SIZE = 256    \n",
    "train_dataset = MyDataset(x_train,x_train_images, y_train)\n",
    "dataLoader_train = torch.utils.data.DataLoader(train_dataset,\n",
    "                                               batch_size=BATCH_SIZE,\n",
    "                                               shuffle=True)\n",
    "\n",
    "test_dataset = MyDataset(x_test,x_test_images, y_test)\n",
    "dataLoader_test = torch.utils.data.DataLoader(test_dataset,\n",
    "                                              batch_size=BATCH_SIZE,\n",
    "                                              shuffle=True)\n"
   ]
  },
  {
   "cell_type": "code",
   "execution_count": 11,
   "metadata": {
    "execution": {
     "iopub.execute_input": "2022-08-03T09:25:17.704544Z",
     "iopub.status.busy": "2022-08-03T09:25:17.704124Z",
     "iopub.status.idle": "2022-08-03T09:25:17.731426Z",
     "shell.execute_reply": "2022-08-03T09:25:17.729088Z",
     "shell.execute_reply.started": "2022-08-03T09:25:17.704501Z"
    }
   },
   "outputs": [
    {
     "name": "stdout",
     "output_type": "stream",
     "text": [
      "Model_img(\n",
      "  (conv): Sequential(\n",
      "    (0): Conv2d(3, 32, kernel_size=(3, 3), stride=(1, 1))\n",
      "    (1): ReLU()\n",
      "    (2): BatchNorm2d(32, eps=1e-05, momentum=0.1, affine=True, track_running_stats=True)\n",
      "    (3): Conv2d(32, 64, kernel_size=(5, 5), stride=(1, 1))\n",
      "    (4): ReLU()\n",
      "    (5): BatchNorm2d(64, eps=1e-05, momentum=0.1, affine=True, track_running_stats=True)\n",
      "    (6): Conv2d(64, 64, kernel_size=(5, 5), stride=(1, 1))\n",
      "    (7): ReLU()\n",
      "    (8): BatchNorm2d(64, eps=1e-05, momentum=0.1, affine=True, track_running_stats=True)\n",
      "  )\n",
      "  (flatten): Sequential(\n",
      "    (0): AdaptiveMaxPool2d(output_size=1)\n",
      "    (1): Flatten(start_dim=1, end_dim=-1)\n",
      "  )\n",
      "  (fc): Sequential(\n",
      "    (0): Linear(in_features=3, out_features=256, bias=True)\n",
      "    (1): ReLU()\n",
      "    (2): Linear(in_features=256, out_features=128, bias=True)\n",
      "    (3): ReLU()\n",
      "  )\n",
      "  (final_fc): Sequential(\n",
      "    (0): Linear(in_features=64, out_features=512, bias=True)\n",
      "    (1): ReLU()\n",
      "    (2): Linear(in_features=512, out_features=256, bias=True)\n",
      "    (3): ReLU()\n",
      "    (4): Linear(in_features=256, out_features=1, bias=True)\n",
      "  )\n",
      ")\n"
     ]
    }
   ],
   "source": [
    "class Model_img(torch.nn.Module):\n",
    "    \n",
    "    def __init__(self, input_shape):\n",
    "        super().__init__()\n",
    "        \n",
    "        self.conv = torch.nn.Sequential(\n",
    "            torch.nn.Conv2d(in_channels=3, out_channels=32, kernel_size=(3, 3)),\n",
    "            torch.nn.ReLU(),\n",
    "            torch.nn.BatchNorm2d(32),\n",
    "            torch.nn.Conv2d(in_channels=32, out_channels=64, kernel_size=(5, 5)),\n",
    "            torch.nn.ReLU(),\n",
    "            torch.nn.BatchNorm2d(64),\n",
    "            torch.nn.Conv2d(in_channels=64, out_channels=64, kernel_size=(5, 5)),\n",
    "            torch.nn.ReLU(),\n",
    "            torch.nn.BatchNorm2d(64),\n",
    "        )\n",
    "        \n",
    "        self.flatten = torch.nn.Sequential(torch.nn.AdaptiveMaxPool2d(1), torch.nn.Flatten())\n",
    "        \n",
    "        self.fc = torch.nn.Sequential(\n",
    "            torch.nn.Linear(input_shape, 256),\n",
    "            torch.nn.ReLU(),\n",
    "            torch.nn.Linear(256, 128),\n",
    "            torch.nn.ReLU(),\n",
    "        )\n",
    "        \n",
    "        self.final_fc = torch.nn.Sequential(\n",
    "            torch.nn.Linear(64, 512),\n",
    "            torch.nn.ReLU(),\n",
    "            torch.nn.Linear(512, 256),\n",
    "            torch.nn.ReLU(),\n",
    "            torch.nn.Linear(256, 1)\n",
    "        )\n",
    "        \n",
    "    def forward(self, img):\n",
    "        img = self.conv(img)\n",
    "        img = self.flatten(img) \n",
    "        #x = self.fc(x)\n",
    "        #combined = torch.cat((img, x), 1)\n",
    "        price = self.final_fc(img)\n",
    "        return price\n",
    "    \n",
    "model_img = Model_img(3)\n",
    "print(model_img)\n",
    "criterion = torch.nn.MSELoss()\n",
    "optimizer = torch.optim.Adam(model_img.parameters(), lr=5e-4)"
   ]
  },
  {
   "cell_type": "code",
   "execution_count": 12,
   "metadata": {
    "execution": {
     "iopub.execute_input": "2022-08-03T09:43:21.643405Z",
     "iopub.status.busy": "2022-08-03T09:43:21.642535Z",
     "iopub.status.idle": "2022-08-03T11:32:34.847826Z",
     "shell.execute_reply": "2022-08-03T11:32:34.846314Z",
     "shell.execute_reply.started": "2022-08-03T09:43:21.643373Z"
    }
   },
   "outputs": [
    {
     "name": "stdout",
     "output_type": "stream",
     "text": [
      "started!\n",
      "epoch 1/50 finished with train loss: 632489056353.5238 and test loss: 622295984810.6666\n",
      "epoch 2/50 finished with train loss: 434866719792.7619 and test loss: 300525067377.7778\n",
      "epoch 3/50 finished with train loss: 167993456737.5238 and test loss: 136842682368.0\n",
      "epoch 4/50 finished with train loss: 138861510070.85715 and test loss: 132634608981.33333\n",
      "epoch 5/50 finished with train loss: 131987917872.7619 and test loss: 129026196366.22223\n",
      "epoch 6/50 finished with train loss: 125489467977.14285 and test loss: 134086098033.77777\n",
      "epoch 7/50 finished with train loss: 118006534534.09525 and test loss: 132130233002.66667\n",
      "epoch 8/50 finished with train loss: 112022335683.04762 and test loss: 139197333959.1111\n",
      "epoch 9/50 finished with train loss: 99643849581.71428 and test loss: 133077752945.77777\n",
      "epoch 10/50 finished with train loss: 86649818745.90475 and test loss: 131298155178.66667\n",
      "epoch 11/50 finished with train loss: 78590274706.28572 and test loss: 149275655736.8889\n",
      "epoch 12/50 finished with train loss: 62054360210.28571 and test loss: 179054323484.44446\n",
      "epoch 13/50 finished with train loss: 54730887363.04762 and test loss: 134340401379.55556\n",
      "epoch 14/50 finished with train loss: 42416768341.333336 and test loss: 146773555882.66666\n",
      "epoch 15/50 finished with train loss: 37281637571.04762 and test loss: 133869947107.55556\n",
      "epoch 16/50 finished with train loss: 31213618078.47619 and test loss: 131045793336.88889\n",
      "epoch 17/50 finished with train loss: 26181335381.333332 and test loss: 127717976291.55556\n",
      "epoch 18/50 finished with train loss: 19661462528.0 and test loss: 136677917127.11111\n",
      "epoch 19/50 finished with train loss: 17955941205.333332 and test loss: 135094977877.33333\n",
      "epoch 20/50 finished with train loss: 16005052903.619047 and test loss: 135842397752.88889\n",
      "epoch 21/50 finished with train loss: 17160985478.095238 and test loss: 131280581518.22223\n",
      "epoch 22/50 finished with train loss: 16651126832.761906 and test loss: 131593860437.33333\n",
      "epoch 23/50 finished with train loss: 17745258739.809525 and test loss: 143277633991.1111\n",
      "epoch 24/50 finished with train loss: 12464351414.857143 and test loss: 128943904995.55556\n",
      "epoch 25/50 finished with train loss: 10270614247.619047 and test loss: 126437806535.11111\n",
      "epoch 26/50 finished with train loss: 9507432801.52381 and test loss: 126806872974.22223\n",
      "epoch 27/50 finished with train loss: 9252555849.142857 and test loss: 128831373312.0\n",
      "epoch 28/50 finished with train loss: 10494198296.380953 and test loss: 128444532053.33333\n",
      "epoch 29/50 finished with train loss: 10014243035.428572 and test loss: 127430387939.55556\n",
      "epoch 30/50 finished with train loss: 9114072795.428572 and test loss: 142879833656.8889\n",
      "epoch 31/50 finished with train loss: 8838181071.238094 and test loss: 124224981674.66667\n",
      "epoch 32/50 finished with train loss: 10591908498.285715 and test loss: 129423932984.88889\n",
      "epoch 33/50 finished with train loss: 10195408676.571428 and test loss: 123028297500.44444\n",
      "epoch 34/50 finished with train loss: 8601111100.952381 and test loss: 136554734023.11111\n",
      "epoch 35/50 finished with train loss: 7800172824.380953 and test loss: 135249696540.44444\n",
      "epoch 36/50 finished with train loss: 7645230080.0 and test loss: 124019595946.66667\n",
      "epoch 37/50 finished with train loss: 7891894747.428572 and test loss: 125276689294.22223\n",
      "epoch 38/50 finished with train loss: 9107329377.52381 and test loss: 126157562311.11111\n",
      "epoch 39/50 finished with train loss: 8335144021.333333 and test loss: 132923580416.0\n",
      "epoch 40/50 finished with train loss: 7634363623.619047 and test loss: 146609300366.22223\n",
      "epoch 41/50 finished with train loss: 8902817206.857143 and test loss: 127026118656.0\n",
      "epoch 42/50 finished with train loss: 7923903427.047619 and test loss: 125405322808.88889\n",
      "epoch 43/50 finished with train loss: 6989760774.095238 and test loss: 121965765063.11111\n",
      "epoch 44/50 finished with train loss: 7049299870.476191 and test loss: 124816831829.33333\n",
      "epoch 45/50 finished with train loss: 7397715644.952381 and test loss: 125383221703.11111\n",
      "epoch 46/50 finished with train loss: 7327889578.666667 and test loss: 136357901198.22223\n",
      "epoch 47/50 finished with train loss: 7730501607.619047 and test loss: 124932263936.0\n",
      "epoch 48/50 finished with train loss: 7228816585.142858 and test loss: 128113120597.33333\n",
      "epoch 49/50 finished with train loss: 5984309601.523809 and test loss: 125653549511.11111\n",
      "epoch 50/50 finished with train loss: 7006016426.666667 and test loss: 129166124373.33333\n",
      "Wall time: 3h 32min 4s\n"
     ]
    }
   ],
   "source": [
    "%%time\n",
    "\n",
    "n_epochs = 50\n",
    "print('started!')\n",
    "train_losses = []\n",
    "test_losses = []\n",
    "for epoch in range(n_epochs):\n",
    "    train_batch_loss = 0\n",
    "    model_img.train()\n",
    "    for step, batch in enumerate(dataLoader_train):\n",
    "        x = batch[\"x\"]\n",
    "        img = batch[\"img\"]\n",
    "        y = batch[\"y\"]\n",
    "\n",
    "        optimizer.zero_grad()\n",
    "        outputs = model_img(img = img)\n",
    "        loss = criterion(outputs[:,0], y)\n",
    "        loss.backward()\n",
    "        optimizer.step()\n",
    "        train_batch_loss += loss.item()\n",
    "        optimizer.step()\n",
    "        optimizer.zero_grad()\n",
    "\n",
    "    test_batch_loss = 0\n",
    "    model_img.eval()\n",
    "    with torch.no_grad():\n",
    "        for step, batch in enumerate(dataLoader_test):\n",
    "            x = batch[\"x\"]\n",
    "            img = batch[\"img\"]\n",
    "            y = batch[\"y\"]\n",
    "            outputs = model_img(img = img)\n",
    "            loss = criterion(outputs[:,0], y)\n",
    "            test_batch_loss += loss.item()\n",
    "\n",
    "    print('epoch {}/{} finished with train loss: {} and test loss: {}'.format(epoch+1, n_epochs,\n",
    "                                                                              train_batch_loss / len(dataLoader_train),\n",
    "                                                                              test_batch_loss / len(dataLoader_test)))\n",
    "    train_losses.append(train_batch_loss / len(dataLoader_train))\n",
    "    test_losses.append(test_batch_loss / len(dataLoader_test))\n",
    "    \n",
    "    \n",
    "torch.save(model_img.state_dict(), './model_img_input')"
   ]
  },
  {
   "cell_type": "code",
   "execution_count": 13,
   "metadata": {
    "execution": {
     "iopub.execute_input": "2022-08-03T11:32:34.851402Z",
     "iopub.status.busy": "2022-08-03T11:32:34.850963Z",
     "iopub.status.idle": "2022-08-03T11:36:36.277799Z",
     "shell.execute_reply": "2022-08-03T11:36:36.276192Z",
     "shell.execute_reply.started": "2022-08-03T11:32:34.851360Z"
    }
   },
   "outputs": [
    {
     "name": "stdout",
     "output_type": "stream",
     "text": [
      "\n",
      "Test Results :\n",
      "\n",
      "RSS : 591917484434110.2\n",
      "RSE : 359263.88265738083\n",
      "TSS : 616943636836544.1\n",
      "R Squared : 0.04056473056559695\n",
      "MSE : 129014272980.40633\n",
      "MAE : 239673.9580052583\n",
      "Accuracy with 10% : 0.24455100261551874\n",
      "\n",
      "Train Results :\n",
      "\n",
      "RSS : 96147252798891.81\n",
      "RSE : 94779.77582154823\n",
      "TSS : 1549134104234107.8\n",
      "R Squared : 0.9379348420926883\n",
      "MSE : 8981527585.137926\n",
      "MAE : 69808.36464779892\n",
      "Accuracy with 10% : 0.5374124241008874\n"
     ]
    }
   ],
   "source": [
    "def reg_report(true, pred, name='Test'):\n",
    "    print(\"\\n{} Results :\\n\".format(name))\n",
    "    print(\"RSS :\",sum((pred-true)**2))\n",
    "    print(\"RSE :\",math.sqrt(sum((pred-true)**2)*(1/(len(pred)-2))))\n",
    "    print(\"TSS :\",sum((true-true.mean())**2))\n",
    "    print(\"R Squared :\",1-(sum((pred-true)**2)/sum((true-true.mean())**2)))\n",
    "    print(\"MSE :\",((pred-true)**2).mean())\n",
    "    print('MAE :',(abs(pred-true)).mean())\n",
    "    print('Accuracy with 10% :', ((pred<=true*1.1) & (true*0.9<=pred)).mean())\n",
    "    \n",
    "\n",
    "def eval_report(y_train, pred_train,y_test, pred_test):\n",
    "    reg_report(y_train, pred_train, name='Train')\n",
    "    reg_report(y_test, pred_test, name='Test')\n",
    "    \n",
    "def res(dataLoader, name = 'Test'):  \n",
    "    trues = []\n",
    "    preds = []\n",
    "    model_img.eval()\n",
    "    with torch.no_grad():\n",
    "        for step, batch in enumerate(dataLoader):\n",
    "            x = batch[\"x\"]\n",
    "            img = batch[\"img\"]\n",
    "            y = batch[\"y\"]\n",
    "\n",
    "            outputs = model_img(img = img)\n",
    "\n",
    "            trues = trues + y.tolist()\n",
    "            preds = preds + outputs[:,0].tolist()\n",
    "\n",
    "\n",
    "    reg_report(true =  np.array(trues), pred = np.array(preds), name=name)\n",
    "\n",
    "res(dataLoader_test, name = 'Test')\n",
    "res(dataLoader_train, name = 'Train')"
   ]
  },
  {
   "cell_type": "code",
   "execution_count": 14,
   "metadata": {},
   "outputs": [
    {
     "data": {
      "image/png": "[encoded data removed]",
      "text/plain": [
       "<Figure size 432x288 with 1 Axes>"
      ]
     },
     "metadata": {},
     "output_type": "display_data"
    }
   ],
   "source": [
    "import matplotlib.pyplot as plt\n",
    "\n",
    "plt.style.use(\"ggplot\")\n",
    "plt.figure()\n",
    "plt.plot(np.arange(0,len(train_losses)), train_losses, label=\"train_loss\")\n",
    "plt.plot(np.arange(0, len(test_losses)), test_losses, label=\"val_loss\")\n",
    "plt.title(\"Training and val Losses\")\n",
    "plt.xlabel(\"Epoch #\")\n",
    "plt.ylabel(\"Losses\")\n",
    "plt.legend()\n",
    "plt.show()"
   ]
  }
 ],
 "metadata": {
  "kernelspec": {
   "display_name": "Python 3",
   "language": "python",
   "name": "python3"
  },
  "language_info": {
   "codemirror_mode": {
    "name": "ipython",
    "version": 3
   },
   "file_extension": ".py",
   "mimetype": "text/x-python",
   "name": "python",
   "nbconvert_exporter": "python",
   "pygments_lexer": "ipython3",
   "version": "3.7.1"
  }
 },
 "nbformat": 4,
 "nbformat_minor": 4
}
