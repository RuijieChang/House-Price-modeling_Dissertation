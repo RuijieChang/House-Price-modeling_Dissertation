{
 "cells": [
  {
   "cell_type": "code",
   "execution_count": 1,
   "metadata": {
    "_cell_guid": "b1076dfc-b9ad-4769-8c92-a6c4dae69d19",
    "_uuid": "8f2839f25d086af736a60e9eeb907d3b93b6e0e5",
    "execution": {
     "iopub.execute_input": "2022-07-23T01:28:41.061261Z",
     "iopub.status.busy": "2022-07-23T01:28:41.060852Z",
     "iopub.status.idle": "2022-07-23T01:28:44.004035Z",
     "shell.execute_reply": "2022-07-23T01:28:44.003122Z",
     "shell.execute_reply.started": "2022-07-23T01:28:41.061167Z"
    }
   },
   "outputs": [
    {
     "name": "stderr",
     "output_type": "stream",
     "text": [
      "C:\\Users\\ruijiec\\Anaconda3\\lib\\site-packages\\pandas\\compat\\_optional.py:138: UserWarning: Pandas requires version '2.7.0' or newer of 'numexpr' (version '2.6.8' currently installed).\n",
      "  warnings.warn(msg, UserWarning)\n"
     ]
    }
   ],
   "source": [
    "import numpy as np # linear algebra\n",
    "import pandas as pd # data processing, CSV file I/O (e.g. pd.read_csv)\n",
    "import os\n",
    "import math\n",
    "\n",
    "from PIL import Image\n",
    "from numpy import asarray\n",
    "\n",
    "import torch\n",
    "from torch import nn\n",
    "from torch.nn import functional as F\n",
    "import torchvision\n",
    "import torchvision.transforms as transforms\n",
    "\n",
    "from sklearn.model_selection import train_test_split\n",
    "from mlxtend.plotting import plot_confusion_matrix\n",
    "from sklearn.metrics import confusion_matrix, classification_report\n",
    "from catboost import Pool, CatBoostClassifier\n",
    "from sklearn.metrics import roc_curve\n",
    "from sklearn.metrics import roc_auc_score\n",
    "\n",
    "import matplotlib.pyplot as plt\n",
    "import cv2\n",
    "# processing\n",
    "from sklearn.model_selection import train_test_split\n",
    "\n",
    "\n",
    "# for dirname, _, filenames in os.walk('/kaggle/input'):\n",
    "#     for filename in filenames:\n",
    "#         print(os.path.join(dirname, filename))\n",
    "\n"
   ]
  },
  {
   "cell_type": "markdown",
   "metadata": {},
   "source": [
    "# loading Data"
   ]
  },
  {
   "cell_type": "code",
   "execution_count": 2,
   "metadata": {
    "execution": {
     "iopub.execute_input": "2022-07-23T01:28:44.006146Z",
     "iopub.status.busy": "2022-07-23T01:28:44.005836Z",
     "iopub.status.idle": "2022-07-23T01:28:44.124476Z",
     "shell.execute_reply": "2022-07-23T01:28:44.123440Z",
     "shell.execute_reply.started": "2022-07-23T01:28:44.006120Z"
    }
   },
   "outputs": [
    {
     "name": "stdout",
     "output_type": "stream",
     "text": [
      "(15474, 8)\n"
     ]
    },
    {
     "data": {
      "text/html": [
       "<div>\n",
       "<style scoped>\n",
       "    .dataframe tbody tr th:only-of-type {\n",
       "        vertical-align: middle;\n",
       "    }\n",
       "\n",
       "    .dataframe tbody tr th {\n",
       "        vertical-align: top;\n",
       "    }\n",
       "\n",
       "    .dataframe thead th {\n",
       "        text-align: right;\n",
       "    }\n",
       "</style>\n",
       "<table border=\"1\" class=\"dataframe\">\n",
       "  <thead>\n",
       "    <tr style=\"text-align: right;\">\n",
       "      <th></th>\n",
       "      <th>image_id</th>\n",
       "      <th>street</th>\n",
       "      <th>citi</th>\n",
       "      <th>n_citi</th>\n",
       "      <th>bed</th>\n",
       "      <th>bath</th>\n",
       "      <th>sqft</th>\n",
       "      <th>price</th>\n",
       "    </tr>\n",
       "  </thead>\n",
       "  <tbody>\n",
       "    <tr>\n",
       "      <th>0</th>\n",
       "      <td>0</td>\n",
       "      <td>1317 Van Buren Avenue</td>\n",
       "      <td>Salton City, CA</td>\n",
       "      <td>317</td>\n",
       "      <td>3</td>\n",
       "      <td>2.0</td>\n",
       "      <td>1560</td>\n",
       "      <td>201900</td>\n",
       "    </tr>\n",
       "    <tr>\n",
       "      <th>1</th>\n",
       "      <td>1</td>\n",
       "      <td>124 C Street W</td>\n",
       "      <td>Brawley, CA</td>\n",
       "      <td>48</td>\n",
       "      <td>3</td>\n",
       "      <td>2.0</td>\n",
       "      <td>713</td>\n",
       "      <td>228500</td>\n",
       "    </tr>\n",
       "    <tr>\n",
       "      <th>2</th>\n",
       "      <td>2</td>\n",
       "      <td>2304 Clark Road</td>\n",
       "      <td>Imperial, CA</td>\n",
       "      <td>152</td>\n",
       "      <td>3</td>\n",
       "      <td>1.0</td>\n",
       "      <td>800</td>\n",
       "      <td>273950</td>\n",
       "    </tr>\n",
       "    <tr>\n",
       "      <th>3</th>\n",
       "      <td>3</td>\n",
       "      <td>755 Brawley Avenue</td>\n",
       "      <td>Brawley, CA</td>\n",
       "      <td>48</td>\n",
       "      <td>3</td>\n",
       "      <td>1.0</td>\n",
       "      <td>1082</td>\n",
       "      <td>350000</td>\n",
       "    </tr>\n",
       "    <tr>\n",
       "      <th>4</th>\n",
       "      <td>4</td>\n",
       "      <td>2207 R Carrillo Court</td>\n",
       "      <td>Calexico, CA</td>\n",
       "      <td>55</td>\n",
       "      <td>4</td>\n",
       "      <td>3.0</td>\n",
       "      <td>2547</td>\n",
       "      <td>385100</td>\n",
       "    </tr>\n",
       "  </tbody>\n",
       "</table>\n",
       "</div>"
      ],
      "text/plain": [
       "   image_id                 street             citi  n_citi  bed  bath  sqft  \\\n",
       "0         0  1317 Van Buren Avenue  Salton City, CA     317    3   2.0  1560   \n",
       "1         1         124 C Street W      Brawley, CA      48    3   2.0   713   \n",
       "2         2        2304 Clark Road     Imperial, CA     152    3   1.0   800   \n",
       "3         3     755 Brawley Avenue      Brawley, CA      48    3   1.0  1082   \n",
       "4         4  2207 R Carrillo Court     Calexico, CA      55    4   3.0  2547   \n",
       "\n",
       "    price  \n",
       "0  201900  \n",
       "1  228500  \n",
       "2  273950  \n",
       "3  350000  \n",
       "4  385100  "
      ]
     },
     "metadata": {},
     "output_type": "display_data"
    },
    {
     "name": "stdout",
     "output_type": "stream",
     "text": [
      "<class 'pandas.core.frame.DataFrame'>\n",
      "RangeIndex: 15474 entries, 0 to 15473\n",
      "Data columns (total 8 columns):\n",
      " #   Column    Non-Null Count  Dtype  \n",
      "---  ------    --------------  -----  \n",
      " 0   image_id  15474 non-null  int64  \n",
      " 1   street    15474 non-null  object \n",
      " 2   citi      15474 non-null  object \n",
      " 3   n_citi    15474 non-null  int64  \n",
      " 4   bed       15474 non-null  int64  \n",
      " 5   bath      15474 non-null  float64\n",
      " 6   sqft      15474 non-null  int64  \n",
      " 7   price     15474 non-null  int64  \n",
      "dtypes: float64(1), int64(5), object(2)\n",
      "memory usage: 967.2+ KB\n"
     ]
    },
    {
     "data": {
      "text/plain": [
       "None"
      ]
     },
     "metadata": {},
     "output_type": "display_data"
    },
    {
     "data": {
      "text/html": [
       "<div>\n",
       "<style scoped>\n",
       "    .dataframe tbody tr th:only-of-type {\n",
       "        vertical-align: middle;\n",
       "    }\n",
       "\n",
       "    .dataframe tbody tr th {\n",
       "        vertical-align: top;\n",
       "    }\n",
       "\n",
       "    .dataframe thead th {\n",
       "        text-align: right;\n",
       "    }\n",
       "</style>\n",
       "<table border=\"1\" class=\"dataframe\">\n",
       "  <thead>\n",
       "    <tr style=\"text-align: right;\">\n",
       "      <th></th>\n",
       "      <th>image_id</th>\n",
       "      <th>n_citi</th>\n",
       "      <th>bed</th>\n",
       "      <th>bath</th>\n",
       "      <th>sqft</th>\n",
       "      <th>price</th>\n",
       "    </tr>\n",
       "  </thead>\n",
       "  <tbody>\n",
       "    <tr>\n",
       "      <th>count</th>\n",
       "      <td>15474.000000</td>\n",
       "      <td>15474.000000</td>\n",
       "      <td>15474.000000</td>\n",
       "      <td>15474.000000</td>\n",
       "      <td>15474.000000</td>\n",
       "      <td>1.547400e+04</td>\n",
       "    </tr>\n",
       "    <tr>\n",
       "      <th>mean</th>\n",
       "      <td>7736.500000</td>\n",
       "      <td>216.597518</td>\n",
       "      <td>3.506398</td>\n",
       "      <td>2.453251</td>\n",
       "      <td>2173.913209</td>\n",
       "      <td>7.031209e+05</td>\n",
       "    </tr>\n",
       "    <tr>\n",
       "      <th>std</th>\n",
       "      <td>4467.103368</td>\n",
       "      <td>112.372985</td>\n",
       "      <td>1.034838</td>\n",
       "      <td>0.958742</td>\n",
       "      <td>1025.339617</td>\n",
       "      <td>3.769762e+05</td>\n",
       "    </tr>\n",
       "    <tr>\n",
       "      <th>min</th>\n",
       "      <td>0.000000</td>\n",
       "      <td>0.000000</td>\n",
       "      <td>1.000000</td>\n",
       "      <td>0.000000</td>\n",
       "      <td>280.000000</td>\n",
       "      <td>1.950000e+05</td>\n",
       "    </tr>\n",
       "    <tr>\n",
       "      <th>25%</th>\n",
       "      <td>3868.250000</td>\n",
       "      <td>119.000000</td>\n",
       "      <td>3.000000</td>\n",
       "      <td>2.000000</td>\n",
       "      <td>1426.000000</td>\n",
       "      <td>4.450000e+05</td>\n",
       "    </tr>\n",
       "    <tr>\n",
       "      <th>50%</th>\n",
       "      <td>7736.500000</td>\n",
       "      <td>222.500000</td>\n",
       "      <td>3.000000</td>\n",
       "      <td>2.100000</td>\n",
       "      <td>1951.000000</td>\n",
       "      <td>6.390000e+05</td>\n",
       "    </tr>\n",
       "    <tr>\n",
       "      <th>75%</th>\n",
       "      <td>11604.750000</td>\n",
       "      <td>315.000000</td>\n",
       "      <td>4.000000</td>\n",
       "      <td>3.000000</td>\n",
       "      <td>2737.750000</td>\n",
       "      <td>8.349750e+05</td>\n",
       "    </tr>\n",
       "    <tr>\n",
       "      <th>max</th>\n",
       "      <td>15473.000000</td>\n",
       "      <td>414.000000</td>\n",
       "      <td>12.000000</td>\n",
       "      <td>36.000000</td>\n",
       "      <td>17667.000000</td>\n",
       "      <td>2.000000e+06</td>\n",
       "    </tr>\n",
       "  </tbody>\n",
       "</table>\n",
       "</div>"
      ],
      "text/plain": [
       "           image_id        n_citi           bed          bath          sqft  \\\n",
       "count  15474.000000  15474.000000  15474.000000  15474.000000  15474.000000   \n",
       "mean    7736.500000    216.597518      3.506398      2.453251   2173.913209   \n",
       "std     4467.103368    112.372985      1.034838      0.958742   1025.339617   \n",
       "min        0.000000      0.000000      1.000000      0.000000    280.000000   \n",
       "25%     3868.250000    119.000000      3.000000      2.000000   1426.000000   \n",
       "50%     7736.500000    222.500000      3.000000      2.100000   1951.000000   \n",
       "75%    11604.750000    315.000000      4.000000      3.000000   2737.750000   \n",
       "max    15473.000000    414.000000     12.000000     36.000000  17667.000000   \n",
       "\n",
       "              price  \n",
       "count  1.547400e+04  \n",
       "mean   7.031209e+05  \n",
       "std    3.769762e+05  \n",
       "min    1.950000e+05  \n",
       "25%    4.450000e+05  \n",
       "50%    6.390000e+05  \n",
       "75%    8.349750e+05  \n",
       "max    2.000000e+06  "
      ]
     },
     "metadata": {},
     "output_type": "display_data"
    }
   ],
   "source": [
    "data = pd.read_csv(r'C:\\Users\\ruijiec\\Downloads\\data\\socal2.csv')\n",
    "print(data.shape)\n",
    "display(data.head())\n",
    "display(data.info())\n",
    "display(data.describe())"
   ]
  },
  {
   "cell_type": "code",
   "execution_count": 3,
   "metadata": {
    "execution": {
     "iopub.execute_input": "2022-07-23T01:28:44.126590Z",
     "iopub.status.busy": "2022-07-23T01:28:44.126231Z",
     "iopub.status.idle": "2022-07-23T01:28:44.325243Z",
     "shell.execute_reply": "2022-07-23T01:28:44.324506Z",
     "shell.execute_reply.started": "2022-07-23T01:28:44.126554Z"
    }
   },
   "outputs": [
    {
     "data": {
      "text/plain": [
       "<matplotlib.axes._subplots.AxesSubplot at 0x19d4b9a0f60>"
      ]
     },
     "execution_count": 3,
     "metadata": {},
     "output_type": "execute_result"
    },
    {
     "data": {
      "image/png": "[encoded data removed]",
      "text/plain": [
       "<Figure size 432x288 with 1 Axes>"
      ]
     },
     "metadata": {
      "needs_background": "light"
     },
     "output_type": "display_data"
    }
   ],
   "source": [
    "data.price.hist()"
   ]
  },
  {
   "cell_type": "code",
   "execution_count": 4,
   "metadata": {
    "execution": {
     "iopub.execute_input": "2022-07-23T01:28:44.326834Z",
     "iopub.status.busy": "2022-07-23T01:28:44.326485Z",
     "iopub.status.idle": "2022-07-23T01:28:44.499605Z",
     "shell.execute_reply": "2022-07-23T01:28:44.498566Z",
     "shell.execute_reply.started": "2022-07-23T01:28:44.326805Z"
    }
   },
   "outputs": [
    {
     "data": {
      "text/plain": [
       "<matplotlib.axes._subplots.AxesSubplot at 0x19d2520f908>"
      ]
     },
     "execution_count": 4,
     "metadata": {},
     "output_type": "execute_result"
    },
    {
     "data": {
      "image/png": "[encoded data removed]",
      "text/plain": [
       "<Figure size 432x288 with 1 Axes>"
      ]
     },
     "metadata": {
      "needs_background": "light"
     },
     "output_type": "display_data"
    }
   ],
   "source": [
    "data.sqft.hist()"
   ]
  },
  {
   "cell_type": "markdown",
   "metadata": {},
   "source": [
    "## loading images"
   ]
  },
  {
   "cell_type": "code",
   "execution_count": 5,
   "metadata": {
    "execution": {
     "iopub.execute_input": "2022-07-23T01:28:44.503219Z",
     "iopub.status.busy": "2022-07-23T01:28:44.502970Z",
     "iopub.status.idle": "2022-07-23T01:31:23.579532Z",
     "shell.execute_reply": "2022-07-23T01:31:23.578803Z",
     "shell.execute_reply.started": "2022-07-23T01:28:44.503195Z"
    }
   },
   "outputs": [
    {
     "name": "stdout",
     "output_type": "stream",
     "text": [
      "15473\n",
      "2600\n",
      "4754\n",
      "10000\n",
      "12498\n",
      "15469\n",
      "{(311, 415, 3), (350, 350, 3), (350, 525, 4)}\n",
      "177\n"
     ]
    }
   ],
   "source": [
    "print(data.image_id.max())\n",
    "imgs = []\n",
    "img_shapes = []\n",
    "c = 0\n",
    "for i in  range(data.image_id.max()):\n",
    "    try:\n",
    "        image = Image.open('C:/Users/ruijiec/Downloads/data/socal2/socal_pics/{}.jpg'.format(i))\n",
    "    #     plt.imshow(image)\n",
    "    #     plt.show()\n",
    "        img_data = asarray(image)\n",
    "    #     np.transpose(data, (2,0,1)).shape\n",
    "        imgs.append(np.transpose(img_data, (2,0,1)))\n",
    "        img_shapes.append(img_data.shape)\n",
    "        if (311, 415, 3) != img_data.shape:\n",
    "            c+=1\n",
    "    except:\n",
    "        print(i)\n",
    "    \n",
    "print(len(imgs))\n",
    "print(set(img_shapes))\n",
    "print(c)"
   ]
  },
  {
   "cell_type": "markdown",
   "metadata": {},
   "source": [
    "we only take (311,415,3) images and data points"
   ]
  },
  {
   "cell_type": "code",
   "execution_count": 6,
   "metadata": {
    "execution": {
     "iopub.execute_input": "2022-07-23T01:31:23.583287Z",
     "iopub.status.busy": "2022-07-23T01:31:23.582981Z",
     "iopub.status.idle": "2022-07-23T01:32:03.522675Z",
     "shell.execute_reply": "2022-07-23T01:32:03.521919Z",
     "shell.execute_reply.started": "2022-07-23T01:31:23.583261Z"
    }
   },
   "outputs": [
    {
     "name": "stdout",
     "output_type": "stream",
     "text": [
      "0\n",
      "1000\n",
      "2000\n",
      "3000\n",
      "4000\n",
      "5000\n",
      "6000\n",
      "7000\n",
      "8000\n",
      "9000\n",
      "10000\n",
      "11000\n",
      "12000\n",
      "13000\n",
      "14000\n",
      "15000\n",
      "181\n",
      "[0, 14, 373, 477, 482, 550, 717, 747, 752, 903, 1128, 1208, 1312, 1697, 1725, 1908, 2385, 2554, 2600, 2729, 3545, 3747, 4754, 4923, 4925, 4926, 4927, 4928, 4929, 4936, 4949, 5013, 5037, 5062, 5117, 5118, 5119, 5120, 5121, 5124, 5129, 5134, 5135, 5136, 5177, 5180, 5312, 5313, 5368, 5413, 5510, 5511, 5524, 5530, 5533, 5551, 5591, 5640, 5648, 5657, 5705, 5712, 5713, 5719, 5720, 5725, 5728, 5744, 5757, 5782, 5833, 5862, 5906, 5913, 5924, 5925, 5934, 5935, 5941, 5942, 5953, 6000, 6108, 6109, 6114, 6115, 6142, 6165, 6304, 6305, 6306, 6322, 6483, 6488, 6489, 6502, 6503, 6506, 6509, 6510, 6511, 6526, 6649, 6672, 6697, 6698, 6701, 6714, 6770, 6835, 6836, 6854, 6872, 6873, 6893, 6895, 6948, 6969, 6992, 7029, 7033, 7037, 7039, 7065, 7090, 7093, 7108, 7144, 7162, 7163, 7193, 7291, 7297, 7321, 7333, 7336, 7484, 7485, 7493, 7496, 7518, 7523, 7526, 7535, 7542, 7677, 7678, 7681, 7682, 7684, 7685, 7736, 7743, 7751, 7816, 7874, 7876, 7877, 7888, 7907, 7969, 8238, 8709, 8809, 8886, 8895, 9081, 9194, 9492, 10000, 10488, 10609, 11821, 11822, 11998, 12024, 12498, 12623, 14476, 14481, 14875]\n"
     ]
    }
   ],
   "source": [
    "exclude_list = []\n",
    "for i in  range(data.image_id.max()):\n",
    "    image = Image.open('C:/Users/ruijiec/Downloads/data/socal2/socal_pics/{}.jpg'.format(i))\n",
    "    temp = asarray(image)\n",
    "    if i%1000==0:\n",
    "        print(i)\n",
    "    if (311, 415, 3) != temp.shape:\n",
    "        exclude_list.append(i)\n",
    "\n",
    "print(len(exclude_list))\n",
    "print(exclude_list)\n",
    "\n",
    "# exclude_list = [0, 14, 373, 477, 482, 550, 717, 747, 752, 903, 1128, 1208, 1312, 1697, 1725, 1908, 2385, 2554, 2600, 2729, 3545, 3747, 4754, 4923, 4925, 4926, 4927, 4928, 4929, 4936, 4949, 5013, 5037, 5062, 5117, 5118, 5119, 5120, 5121, 5124, 5129, 5134, 5135, 5136, 5177, 5180, 5312, 5313, 5368, 5413, 5510, 5511, 5524, 5530, 5533, 5551, 5591, 5640, 5648, 5657, 5705, 5712, 5713, 5719, 5720, 5725, 5728, 5744, 5757, 5782, 5833, 5862, 5906, 5913, 5924, 5925, 5934, 5935, 5941, 5942, 5953, 6000, 6108, 6109, 6114, 6115, 6142, 6165, 6304, 6305, 6306, 6322, 6483, 6488, 6489, 6502, 6503, 6506, 6509, 6510, 6511, 6526, 6649, 6672, 6697, 6698, 6701, 6714, 6770, 6835, 6836, 6854, 6872, 6873, 6893, 6895, 6948, 6969, 6992, 7029, 7033, 7037, 7039, 7065, 7090, 7093, 7108, 7144, 7162, 7163, 7193, 7291, 7297, 7321, 7333, 7336, 7484, 7485, 7493, 7496, 7518, 7523, 7526, 7535, 7542, 7677, 7678, 7681, 7682, 7684, 7685, 7736, 7743, 7751, 7816, 7874, 7876, 7877, 7888, 7907, 7969, 8238, 8709, 8809, 8886, 8895, 9081, 9194, 9492, 10000, 10488, 10609, 11821, 11822, 11998, 12024, 12498, 12623, 14476, 14481, 14875]"
   ]
  },
  {
   "cell_type": "markdown",
   "metadata": {},
   "source": [
    "# Data Processing"
   ]
  },
  {
   "cell_type": "code",
   "execution_count": 7,
   "metadata": {
    "execution": {
     "iopub.execute_input": "2022-07-23T01:32:03.526071Z",
     "iopub.status.busy": "2022-07-23T01:32:03.525815Z",
     "iopub.status.idle": "2022-07-23T01:32:03.552755Z",
     "shell.execute_reply": "2022-07-23T01:32:03.552113Z",
     "shell.execute_reply.started": "2022-07-23T01:32:03.526046Z"
    }
   },
   "outputs": [
    {
     "data": {
      "text/plain": [
       "Series([], dtype: int64)"
      ]
     },
     "execution_count": 7,
     "metadata": {},
     "output_type": "execute_result"
    }
   ],
   "source": [
    "null_count = data.isnull().sum().sort_values(ascending = False)\n",
    "null_count = null_count[null_count>0]\n",
    "null_count"
   ]
  },
  {
   "cell_type": "code",
   "execution_count": 8,
   "metadata": {
    "execution": {
     "iopub.execute_input": "2022-07-23T01:32:03.555928Z",
     "iopub.status.busy": "2022-07-23T01:32:03.555655Z",
     "iopub.status.idle": "2022-07-23T01:32:03.571195Z",
     "shell.execute_reply": "2022-07-23T01:32:03.570423Z",
     "shell.execute_reply.started": "2022-07-23T01:32:03.555904Z"
    }
   },
   "outputs": [
    {
     "name": "stdout",
     "output_type": "stream",
     "text": [
      "(10705, 5)\n",
      "(10705,)\n",
      "(4588, 5)\n",
      "(4588,)\n"
     ]
    }
   ],
   "source": [
    "temp = data[~data.image_id.isin(exclude_list)]\n",
    "x_train, x_test, y_train, y_test = train_test_split(temp.drop(['n_citi','price', 'citi', 'street'], axis=1), temp['price'], test_size=0.30, random_state=42)\n",
    "print(x_train.shape)\n",
    "print(y_train.shape)\n",
    "print(x_test.shape)\n",
    "print(y_test.shape)"
   ]
  },
  {
   "cell_type": "code",
   "execution_count": 9,
   "metadata": {
    "execution": {
     "iopub.execute_input": "2022-07-23T01:32:03.574226Z",
     "iopub.status.busy": "2022-07-23T01:32:03.573985Z",
     "iopub.status.idle": "2022-07-23T01:32:35.689826Z",
     "shell.execute_reply": "2022-07-23T01:32:35.688776Z",
     "shell.execute_reply.started": "2022-07-23T01:32:03.574204Z"
    }
   },
   "outputs": [
    {
     "name": "stdout",
     "output_type": "stream",
     "text": [
      "No. of images:  10705\n",
      "Wall time: 1min 36s\n"
     ]
    }
   ],
   "source": [
    "%%time\n",
    "cnt=0\n",
    "images_path='C:/Users/ruijiec/Downloads/data/socal2/socal_pics'\n",
    "x_train_images=np.zeros((x_train.shape[0],64,64,3),dtype='uint32')\n",
    "for i in x_train.image_id:\n",
    "    sample=cv2.imread(images_path+'/'+str(i)+'.jpg')\n",
    "    imgs=cv2.resize(sample,(64,64))\n",
    "    x_train_images[cnt]=imgs\n",
    "    cnt+=1\n",
    "\n",
    "print(\"No. of images: \",cnt)"
   ]
  },
  {
   "cell_type": "code",
   "execution_count": 10,
   "metadata": {
    "execution": {
     "iopub.execute_input": "2022-07-23T01:32:35.697391Z",
     "iopub.status.busy": "2022-07-23T01:32:35.694696Z",
     "iopub.status.idle": "2022-07-23T01:32:49.085295Z",
     "shell.execute_reply": "2022-07-23T01:32:49.084493Z",
     "shell.execute_reply.started": "2022-07-23T01:32:35.697343Z"
    }
   },
   "outputs": [
    {
     "name": "stdout",
     "output_type": "stream",
     "text": [
      "No. of images:  4588\n",
      "Wall time: 7.85 s\n"
     ]
    }
   ],
   "source": [
    "%%time\n",
    "cnt=0\n",
    "images_path='C:/Users/ruijiec/Downloads/data/socal2/socal_pics'\n",
    "x_test_images=np.zeros((x_test.shape[0],64,64,3),dtype='uint32')\n",
    "for i in x_test.image_id:\n",
    "    sample=cv2.imread(images_path+'/'+str(i)+'.jpg')\n",
    "    imgs=cv2.resize(sample,(64,64))\n",
    "    x_test_images[cnt]=imgs\n",
    "    cnt+=1\n",
    "\n",
    "print(\"No. of images: \",cnt)"
   ]
  },
  {
   "cell_type": "code",
   "execution_count": 11,
   "metadata": {
    "execution": {
     "iopub.execute_input": "2022-07-23T01:32:49.086834Z",
     "iopub.status.busy": "2022-07-23T01:32:49.086498Z",
     "iopub.status.idle": "2022-07-23T01:32:49.119716Z",
     "shell.execute_reply": "2022-07-23T01:32:49.118691Z",
     "shell.execute_reply.started": "2022-07-23T01:32:49.086806Z"
    }
   },
   "outputs": [],
   "source": [
    "class MyDataset(torch.utils.data.Dataset):\n",
    "    def __init__(self, x, img, y):\n",
    "        self.x = torch.tensor(x[['n_citi', 'bed', 'bath', 'sqft']].values).float()\n",
    "        self.img = img\n",
    "        self.y = torch.tensor(y.values).float()\n",
    "\n",
    "    def __len__(self):\n",
    "        return len(self.x)\n",
    "\n",
    "    \n",
    "    def __getitem__(self, idx):\n",
    "        x = self.x[idx]\n",
    "        y = self.y[idx]\n",
    "        img = self.img[idx]\n",
    "        img = torchvision.transforms.functional.to_tensor(img.astype(np.uint8).reshape((64, 64, 3)))\n",
    "        return {'x': x, 'y': y, 'img': img}\n",
    "    \n",
    "BATCH_SIZE = 256    \n",
    "train_dataset = MyDataset(x_train,x_train_images, y_train)\n",
    "dataLoader_train = torch.utils.data.DataLoader(train_dataset,\n",
    "                                               batch_size=BATCH_SIZE,\n",
    "                                               shuffle=True)\n",
    "\n",
    "test_dataset = MyDataset(x_test,x_test_images, y_test)\n",
    "dataLoader_test = torch.utils.data.DataLoader(test_dataset,\n",
    "                                              batch_size=BATCH_SIZE,\n",
    "                                              shuffle=True)\n"
   ]
  },
  {
   "cell_type": "markdown",
   "metadata": {},
   "source": [
    "# Modeling"
   ]
  },
  {
   "cell_type": "code",
   "execution_count": 12,
   "metadata": {
    "execution": {
     "iopub.execute_input": "2022-07-23T01:32:49.121524Z",
     "iopub.status.busy": "2022-07-23T01:32:49.121199Z",
     "iopub.status.idle": "2022-07-23T01:32:49.159335Z",
     "shell.execute_reply": "2022-07-23T01:32:49.158430Z",
     "shell.execute_reply.started": "2022-07-23T01:32:49.121490Z"
    }
   },
   "outputs": [
    {
     "name": "stdout",
     "output_type": "stream",
     "text": [
      "Model(\n",
      "  (conv): Sequential(\n",
      "    (0): Conv2d(3, 32, kernel_size=(3, 3), stride=(1, 1))\n",
      "    (1): ReLU()\n",
      "    (2): BatchNorm2d(32, eps=1e-05, momentum=0.1, affine=True, track_running_stats=True)\n",
      "    (3): Conv2d(32, 64, kernel_size=(5, 5), stride=(1, 1))\n",
      "    (4): ReLU()\n",
      "    (5): BatchNorm2d(64, eps=1e-05, momentum=0.1, affine=True, track_running_stats=True)\n",
      "    (6): Conv2d(64, 64, kernel_size=(5, 5), stride=(1, 1))\n",
      "    (7): ReLU()\n",
      "    (8): BatchNorm2d(64, eps=1e-05, momentum=0.1, affine=True, track_running_stats=True)\n",
      "  )\n",
      "  (flatten): Sequential(\n",
      "    (0): AdaptiveMaxPool2d(output_size=1)\n",
      "    (1): Flatten(start_dim=1, end_dim=-1)\n",
      "  )\n",
      "  (fc): Sequential(\n",
      "    (0): Linear(in_features=4, out_features=256, bias=True)\n",
      "    (1): ReLU()\n",
      "    (2): Linear(in_features=256, out_features=128, bias=True)\n",
      "    (3): ReLU()\n",
      "  )\n",
      "  (final_fc): Sequential(\n",
      "    (0): Linear(in_features=192, out_features=512, bias=True)\n",
      "    (1): ReLU()\n",
      "    (2): Linear(in_features=512, out_features=256, bias=True)\n",
      "    (3): ReLU()\n",
      "    (4): Linear(in_features=256, out_features=1, bias=True)\n",
      "  )\n",
      ")\n"
     ]
    }
   ],
   "source": [
    "class Model(torch.nn.Module):\n",
    "    \n",
    "    def __init__(self, input_shape):\n",
    "        super().__init__()\n",
    "        \n",
    "        self.conv = torch.nn.Sequential(\n",
    "            torch.nn.Conv2d(in_channels=3, out_channels=32, kernel_size=(3, 3)),\n",
    "            torch.nn.ReLU(),\n",
    "            torch.nn.BatchNorm2d(32),\n",
    "            torch.nn.Conv2d(in_channels=32, out_channels=64, kernel_size=(5, 5)),\n",
    "            torch.nn.ReLU(),\n",
    "            torch.nn.BatchNorm2d(64),\n",
    "            torch.nn.Conv2d(in_channels=64, out_channels=64, kernel_size=(5, 5)),\n",
    "            torch.nn.ReLU(),\n",
    "            torch.nn.BatchNorm2d(64),\n",
    "        )\n",
    "        \n",
    "        self.flatten = torch.nn.Sequential(torch.nn.AdaptiveMaxPool2d(1), torch.nn.Flatten())\n",
    "        \n",
    "        self.fc = torch.nn.Sequential(\n",
    "            torch.nn.Linear(input_shape, 256),\n",
    "            torch.nn.ReLU(),\n",
    "            torch.nn.Linear(256, 128),\n",
    "            torch.nn.ReLU(),\n",
    "        )\n",
    "        \n",
    "        self.final_fc = torch.nn.Sequential(\n",
    "            torch.nn.Linear(128+64, 512),\n",
    "            torch.nn.ReLU(),\n",
    "            torch.nn.Linear(512, 256),\n",
    "            torch.nn.ReLU(),\n",
    "            torch.nn.Linear(256, 1)\n",
    "        )\n",
    "        \n",
    "    def forward(self, x, img):\n",
    "        img = self.conv(img)\n",
    "        img = self.flatten(img) \n",
    "        x = self.fc(x)\n",
    "        combined = torch.cat((img, x), 1)\n",
    "        price = self.final_fc(combined)\n",
    "        return price\n",
    "    \n",
    "model = Model(4)\n",
    "print(model)\n",
    "criterion = torch.nn.MSELoss()\n",
    "optimizer = torch.optim.Adam(model.parameters(), lr=5e-4)"
   ]
  },
  {
   "cell_type": "code",
   "execution_count": 13,
   "metadata": {
    "execution": {
     "iopub.execute_input": "2022-07-23T01:32:49.162195Z",
     "iopub.status.busy": "2022-07-23T01:32:49.161958Z",
     "iopub.status.idle": "2022-07-23T02:37:40.056580Z",
     "shell.execute_reply": "2022-07-23T02:37:40.055625Z",
     "shell.execute_reply.started": "2022-07-23T01:32:49.162173Z"
    }
   },
   "outputs": [
    {
     "name": "stdout",
     "output_type": "stream",
     "text": [
      "started!\n",
      "epoch 1/50 finished with train loss: 399792668086.8571 and test loss: 98888826424.88889\n",
      "epoch 2/50 finished with train loss: 102598491379.80952 and test loss: 94261360412.44444\n",
      "epoch 3/50 finished with train loss: 100859477820.95238 and test loss: 96696854755.55556\n",
      "epoch 4/50 finished with train loss: 99691086506.66667 and test loss: 99408089088.0\n",
      "epoch 5/50 finished with train loss: 100139403361.5238 and test loss: 92625994865.77777\n",
      "epoch 6/50 finished with train loss: 100000411648.0 and test loss: 92754239943.11111\n",
      "epoch 7/50 finished with train loss: 100034471643.42857 and test loss: 92831575381.33333\n",
      "epoch 8/50 finished with train loss: 99913195520.0 and test loss: 94867780039.11111\n",
      "epoch 9/50 finished with train loss: 100119753094.09525 and test loss: 92901462471.11111\n",
      "epoch 10/50 finished with train loss: 98780947017.14285 and test loss: 92664423765.33333\n",
      "epoch 11/50 finished with train loss: 99067692958.4762 and test loss: 93198858467.55556\n",
      "epoch 12/50 finished with train loss: 98389975430.09525 and test loss: 91892586723.55556\n",
      "epoch 13/50 finished with train loss: 98103240021.33333 and test loss: 93086099683.55556\n",
      "epoch 14/50 finished with train loss: 95858414738.28572 and test loss: 91746264860.44444\n",
      "epoch 15/50 finished with train loss: 94338524111.2381 and test loss: 90704018545.77777\n",
      "epoch 16/50 finished with train loss: 93044622774.85715 and test loss: 90917340956.44444\n",
      "epoch 17/50 finished with train loss: 88870512737.5238 and test loss: 91124575800.88889\n",
      "epoch 18/50 finished with train loss: 85678310643.80952 and test loss: 88202206776.88889\n",
      "epoch 19/50 finished with train loss: 78962020742.09525 and test loss: 92598391694.22223\n",
      "epoch 20/50 finished with train loss: 72410396769.5238 and test loss: 97304402147.55556\n",
      "epoch 21/50 finished with train loss: 64133072603.42857 and test loss: 96639423374.22223\n",
      "epoch 22/50 finished with train loss: 56517328115.809525 and test loss: 90668298240.0\n",
      "epoch 23/50 finished with train loss: 49541865862.09524 and test loss: 94347978524.44444\n",
      "epoch 24/50 finished with train loss: 41341631341.71429 and test loss: 100997593770.66667\n",
      "epoch 25/50 finished with train loss: 35624014457.90476 and test loss: 98022569756.44444\n",
      "epoch 26/50 finished with train loss: 30374585051.42857 and test loss: 89678366720.0\n",
      "epoch 27/50 finished with train loss: 25364288658.285713 and test loss: 91890110919.11111\n",
      "epoch 28/50 finished with train loss: 21869311926.857143 and test loss: 95655849073.77777\n",
      "epoch 29/50 finished with train loss: 19415784643.04762 and test loss: 95760452494.22223\n",
      "epoch 30/50 finished with train loss: 16559206229.333334 and test loss: 102805240490.66667\n",
      "epoch 31/50 finished with train loss: 15606623695.238094 and test loss: 94141017201.77777\n",
      "epoch 32/50 finished with train loss: 16148436455.619047 and test loss: 97421143608.88889\n",
      "epoch 33/50 finished with train loss: 11735999573.333334 and test loss: 95671027029.33333\n",
      "epoch 34/50 finished with train loss: 12276198704.761906 and test loss: 104312475192.88889\n",
      "epoch 35/50 finished with train loss: 10710143975.619047 and test loss: 95807920355.55556\n",
      "epoch 36/50 finished with train loss: 8236636147.809524 and test loss: 93882323399.11111\n",
      "epoch 37/50 finished with train loss: 10782927652.571428 and test loss: 95543266872.88889\n",
      "epoch 38/50 finished with train loss: 8394814963.809524 and test loss: 97729627932.44444\n",
      "epoch 39/50 finished with train loss: 7527854835.809524 and test loss: 101240844288.0\n",
      "epoch 40/50 finished with train loss: 7469585944.380953 and test loss: 95932746865.77777\n",
      "epoch 41/50 finished with train loss: 6973362694.095238 and test loss: 96358745884.44444\n",
      "epoch 42/50 finished with train loss: 8986975585.52381 and test loss: 95210918798.22223\n",
      "epoch 43/50 finished with train loss: 7634871430.095238 and test loss: 96017451235.55556\n",
      "epoch 44/50 finished with train loss: 5867807463.619047 and test loss: 100797230648.88889\n",
      "epoch 45/50 finished with train loss: 6731446960.761905 and test loss: 105585073720.88889\n",
      "epoch 46/50 finished with train loss: 6874805321.142858 and test loss: 98053068117.33333\n",
      "epoch 47/50 finished with train loss: 5448294296.380953 and test loss: 98341602645.33333\n",
      "epoch 48/50 finished with train loss: 5178422826.666667 and test loss: 99935022193.77777\n",
      "epoch 49/50 finished with train loss: 5442989622.857142 and test loss: 102189451036.44444\n",
      "epoch 50/50 finished with train loss: 5769777261.714286 and test loss: 96989576305.77777\n",
      "Wall time: 3h 21min 13s\n"
     ]
    }
   ],
   "source": [
    "%%time\n",
    "\n",
    "n_epochs = 50\n",
    "print('started!')\n",
    "train_losses1 = []\n",
    "test_losses1 = []\n",
    "for epoch in range(n_epochs):\n",
    "    train_batch_loss = 0\n",
    "    model.train()\n",
    "    for step, batch in enumerate(dataLoader_train):\n",
    "        x = batch[\"x\"]\n",
    "        img = batch[\"img\"]\n",
    "        y = batch[\"y\"]\n",
    "\n",
    "        optimizer.zero_grad()\n",
    "        outputs = model(x = x, img = img)\n",
    "        loss = criterion(outputs[:,0], y)\n",
    "        loss.backward()\n",
    "        optimizer.step()\n",
    "        train_batch_loss += loss.item()\n",
    "        optimizer.step()\n",
    "        optimizer.zero_grad()\n",
    "\n",
    "    test_batch_loss = 0\n",
    "    model.eval()\n",
    "    with torch.no_grad():\n",
    "        for step, batch in enumerate(dataLoader_test):\n",
    "            x = batch[\"x\"]\n",
    "            img = batch[\"img\"]\n",
    "            y = batch[\"y\"]\n",
    "            outputs = model(x = x, img = img)\n",
    "            loss = criterion(outputs[:,0], y)\n",
    "            test_batch_loss += loss.item()\n",
    "\n",
    "    print('epoch {}/{} finished with train loss: {} and test loss: {}'.format(epoch+1, n_epochs,\n",
    "                                                                              train_batch_loss / len(dataLoader_train),\n",
    "                                                                              test_batch_loss / len(dataLoader_test)))\n",
    "    train_losses1.append(train_batch_loss / len(dataLoader_train))\n",
    "    test_losses1.append(test_batch_loss / len(dataLoader_test))\n",
    "    \n",
    "    \n",
    "torch.save(model.state_dict(), './model_two_input')"
   ]
  },
  {
   "cell_type": "code",
   "execution_count": 14,
   "metadata": {
    "execution": {
     "iopub.execute_input": "2022-07-23T02:37:40.058353Z",
     "iopub.status.busy": "2022-07-23T02:37:40.057859Z",
     "iopub.status.idle": "2022-07-23T02:37:40.063953Z",
     "shell.execute_reply": "2022-07-23T02:37:40.063110Z",
     "shell.execute_reply.started": "2022-07-23T02:37:40.058313Z"
    }
   },
   "outputs": [
    {
     "name": "stdout",
     "output_type": "stream",
     "text": [
      "[399792668086.8571, 102598491379.80952, 100859477820.95238, 99691086506.66667, 100139403361.5238, 100000411648.0, 100034471643.42857, 99913195520.0, 100119753094.09525, 98780947017.14285, 99067692958.4762, 98389975430.09525, 98103240021.33333, 95858414738.28572, 94338524111.2381, 93044622774.85715, 88870512737.5238, 85678310643.80952, 78962020742.09525, 72410396769.5238, 64133072603.42857, 56517328115.809525, 49541865862.09524, 41341631341.71429, 35624014457.90476, 30374585051.42857, 25364288658.285713, 21869311926.857143, 19415784643.04762, 16559206229.333334, 15606623695.238094, 16148436455.619047, 11735999573.333334, 12276198704.761906, 10710143975.619047, 8236636147.809524, 10782927652.571428, 8394814963.809524, 7527854835.809524, 7469585944.380953, 6973362694.095238, 8986975585.52381, 7634871430.095238, 5867807463.619047, 6731446960.761905, 6874805321.142858, 5448294296.380953, 5178422826.666667, 5442989622.857142, 5769777261.714286]\n",
      "[98888826424.88889, 94261360412.44444, 96696854755.55556, 99408089088.0, 92625994865.77777, 92754239943.11111, 92831575381.33333, 94867780039.11111, 92901462471.11111, 92664423765.33333, 93198858467.55556, 91892586723.55556, 93086099683.55556, 91746264860.44444, 90704018545.77777, 90917340956.44444, 91124575800.88889, 88202206776.88889, 92598391694.22223, 97304402147.55556, 96639423374.22223, 90668298240.0, 94347978524.44444, 100997593770.66667, 98022569756.44444, 89678366720.0, 91890110919.11111, 95655849073.77777, 95760452494.22223, 102805240490.66667, 94141017201.77777, 97421143608.88889, 95671027029.33333, 104312475192.88889, 95807920355.55556, 93882323399.11111, 95543266872.88889, 97729627932.44444, 101240844288.0, 95932746865.77777, 96358745884.44444, 95210918798.22223, 96017451235.55556, 100797230648.88889, 105585073720.88889, 98053068117.33333, 98341602645.33333, 99935022193.77777, 102189451036.44444, 96989576305.77777]\n"
     ]
    }
   ],
   "source": [
    "print(train_losses1)\n",
    "print(test_losses1)"
   ]
  },
  {
   "cell_type": "code",
   "execution_count": 15,
   "metadata": {
    "execution": {
     "iopub.execute_input": "2022-07-23T02:37:40.065795Z",
     "iopub.status.busy": "2022-07-23T02:37:40.065312Z",
     "iopub.status.idle": "2022-07-23T02:39:58.779025Z",
     "shell.execute_reply": "2022-07-23T02:39:58.778265Z",
     "shell.execute_reply.started": "2022-07-23T02:37:40.065756Z"
    }
   },
   "outputs": [
    {
     "name": "stdout",
     "output_type": "stream",
     "text": [
      "\n",
      "Test Results :\n",
      "\n",
      "RSS : 445001019760729.4\n",
      "RSE : 311503.89250529534\n",
      "TSS : 616943636836543.4\n",
      "R Squared : 0.27870068967316297\n",
      "MSE : 96992375710.70966\n",
      "MAE : 205257.2311532803\n",
      "Accuracy with 10% : 0.32432432432432434\n",
      "\n",
      "Train Results :\n",
      "\n",
      "RSS : 46753416474931.17\n",
      "RSE : 66092.7638344359\n",
      "TSS : 1549134104234098.2\n",
      "R Squared : 0.9698196454734651\n",
      "MSE : 4367437316.668299\n",
      "MAE : 44823.334250934146\n",
      "Accuracy with 10% : 0.7623540401681457\n"
     ]
    }
   ],
   "source": [
    "def reg_report(true, pred, name='Test'):\n",
    "    print(\"\\n{} Results :\\n\".format(name))\n",
    "    print(\"RSS :\",sum((pred-true)**2))\n",
    "    print(\"RSE :\",math.sqrt(sum((pred-true)**2)*(1/(len(pred)-2))))\n",
    "    print(\"TSS :\",sum((true-true.mean())**2))\n",
    "    print(\"R Squared :\",1-(sum((pred-true)**2)/sum((true-true.mean())**2)))\n",
    "    print(\"MSE :\",((pred-true)**2).mean())\n",
    "    print('MAE :',(abs(pred-true)).mean())\n",
    "    print('Accuracy with 10% :', ((pred<=true*1.1) & (true*0.9<=pred)).mean())\n",
    "    \n",
    "\n",
    "def eval_report(y_train, pred_train,y_test, pred_test):\n",
    "    reg_report(y_train, pred_train, name='Train')\n",
    "    reg_report(y_test, pred_test, name='Test')\n",
    "    \n",
    "def res(dataLoader, name = 'Test'):  \n",
    "    trues = []\n",
    "    preds = []\n",
    "    model.eval()\n",
    "    with torch.no_grad():\n",
    "        for step, batch in enumerate(dataLoader):\n",
    "            x = batch[\"x\"]\n",
    "            img = batch[\"img\"]\n",
    "            y = batch[\"y\"]\n",
    "\n",
    "            outputs = model(x = x, img = img)\n",
    "\n",
    "            trues = trues + y.tolist()\n",
    "            preds = preds + outputs[:,0].tolist()\n",
    "\n",
    "\n",
    "    reg_report(true =  np.array(trues), pred = np.array(preds), name=name)\n",
    "\n",
    "res(dataLoader_test, name = 'Test')\n",
    "res(dataLoader_train, name = 'Train')"
   ]
  },
  {
   "cell_type": "code",
   "execution_count": 16,
   "metadata": {
    "execution": {
     "iopub.execute_input": "2022-07-23T02:39:58.780829Z",
     "iopub.status.busy": "2022-07-23T02:39:58.780442Z",
     "iopub.status.idle": "2022-07-23T02:39:58.800379Z",
     "shell.execute_reply": "2022-07-23T02:39:58.799458Z",
     "shell.execute_reply.started": "2022-07-23T02:39:58.780788Z"
    }
   },
   "outputs": [
    {
     "name": "stdout",
     "output_type": "stream",
     "text": [
      "Model(\n",
      "  (conv): Sequential(\n",
      "    (0): Conv2d(3, 32, kernel_size=(3, 3), stride=(1, 1))\n",
      "    (1): ReLU()\n",
      "    (2): BatchNorm2d(32, eps=1e-05, momentum=0.1, affine=True, track_running_stats=True)\n",
      "    (3): Conv2d(32, 64, kernel_size=(5, 5), stride=(1, 1))\n",
      "    (4): ReLU()\n",
      "    (5): BatchNorm2d(64, eps=1e-05, momentum=0.1, affine=True, track_running_stats=True)\n",
      "  )\n",
      "  (flatten): Sequential(\n",
      "    (0): AdaptiveMaxPool2d(output_size=1)\n",
      "    (1): Flatten(start_dim=1, end_dim=-1)\n",
      "  )\n",
      "  (fc): Sequential(\n",
      "    (0): Linear(in_features=4, out_features=256, bias=True)\n",
      "    (1): ReLU()\n",
      "    (2): Linear(in_features=256, out_features=128, bias=True)\n",
      "    (3): ReLU()\n",
      "  )\n",
      "  (final_fc): Sequential(\n",
      "    (0): Linear(in_features=192, out_features=512, bias=True)\n",
      "    (1): ReLU()\n",
      "    (2): Linear(in_features=512, out_features=256, bias=True)\n",
      "    (3): ReLU()\n",
      "    (4): Linear(in_features=256, out_features=1, bias=True)\n",
      "  )\n",
      ")\n"
     ]
    }
   ],
   "source": [
    "class Model(torch.nn.Module):\n",
    "    \n",
    "    def __init__(self, input_shape):\n",
    "        super().__init__()\n",
    "        \n",
    "        self.conv = torch.nn.Sequential(\n",
    "            torch.nn.Conv2d(in_channels=3, out_channels=32, kernel_size=(3, 3)),\n",
    "            torch.nn.ReLU(),\n",
    "            torch.nn.BatchNorm2d(32),\n",
    "            torch.nn.Conv2d(in_channels=32, out_channels=64, kernel_size=(5, 5)),\n",
    "            torch.nn.ReLU(),\n",
    "            torch.nn.BatchNorm2d(64),\n",
    "        )\n",
    "        \n",
    "        self.flatten = torch.nn.Sequential(torch.nn.AdaptiveMaxPool2d(1), torch.nn.Flatten())\n",
    "        \n",
    "        self.fc = torch.nn.Sequential(\n",
    "            torch.nn.Linear(input_shape, 256),\n",
    "            torch.nn.ReLU(),\n",
    "            torch.nn.Linear(256, 128),\n",
    "            torch.nn.ReLU(),\n",
    "        )\n",
    "        \n",
    "        self.final_fc = torch.nn.Sequential(\n",
    "            torch.nn.Linear(128+64, 512),\n",
    "            torch.nn.ReLU(),\n",
    "            torch.nn.Linear(512, 256),\n",
    "            torch.nn.ReLU(),\n",
    "            torch.nn.Linear(256, 1)\n",
    "        )\n",
    "        \n",
    "    def forward(self, x, img):\n",
    "        img = self.conv(img)\n",
    "        img = self.flatten(img) \n",
    "        x = self.fc(x)\n",
    "        combined = torch.cat((img, x), 1)\n",
    "        price = self.final_fc(combined)\n",
    "        return price\n",
    "    \n",
    "model = Model(4)\n",
    "print(model)\n",
    "criterion = torch.nn.MSELoss()\n",
    "optimizer = torch.optim.Adam(model.parameters(), lr=5e-3)"
   ]
  },
  {
   "cell_type": "code",
   "execution_count": 17,
   "metadata": {
    "execution": {
     "iopub.execute_input": "2022-07-23T02:39:58.802314Z",
     "iopub.status.busy": "2022-07-23T02:39:58.801913Z",
     "iopub.status.idle": "2022-07-23T04:03:19.348984Z",
     "shell.execute_reply": "2022-07-23T04:03:19.348004Z",
     "shell.execute_reply.started": "2022-07-23T02:39:58.802282Z"
    }
   },
   "outputs": [
    {
     "name": "stdout",
     "output_type": "stream",
     "text": [
      "started!\n",
      "epoch 1/50 finished with train loss: 202796102412.1905 and test loss: 108138168775.11111\n",
      "epoch 2/50 finished with train loss: 111449804995.04762 and test loss: 102939514652.44444\n",
      "epoch 3/50 finished with train loss: 108583682828.19048 and test loss: 93626674289.77777\n",
      "epoch 4/50 finished with train loss: 99509917403.42857 and test loss: 92158290147.55556\n",
      "epoch 5/50 finished with train loss: 100069591722.66667 and test loss: 97136643185.77777\n",
      "epoch 6/50 finished with train loss: 104163641441.5238 and test loss: 92536640853.33333\n",
      "epoch 7/50 finished with train loss: 112836311137.5238 and test loss: 102999349930.66667\n",
      "epoch 8/50 finished with train loss: 99318171940.57143 and test loss: 87105379896.88889\n",
      "epoch 9/50 finished with train loss: 95998162261.33333 and test loss: 105022554112.0\n",
      "epoch 10/50 finished with train loss: 112143351710.4762 and test loss: 107842919537.77777\n",
      "epoch 11/50 finished with train loss: 92038173062.09525 and test loss: 85381284295.11111\n",
      "epoch 12/50 finished with train loss: 96560294375.61905 and test loss: 85579659719.11111\n",
      "epoch 13/50 finished with train loss: 91804887722.66667 and test loss: 85309303694.22223\n",
      "epoch 14/50 finished with train loss: 94937995556.57143 and test loss: 87599743886.22223\n",
      "epoch 15/50 finished with train loss: 92582450517.33333 and test loss: 95579814570.66667\n",
      "epoch 16/50 finished with train loss: 89365882977.5238 and test loss: 87901821155.55556\n",
      "epoch 17/50 finished with train loss: 88605300443.42857 and test loss: 86220354901.33333\n",
      "epoch 18/50 finished with train loss: 88637321411.04762 and test loss: 84727199061.33333\n",
      "epoch 19/50 finished with train loss: 86782684793.90475 and test loss: 84571460949.33333\n",
      "epoch 20/50 finished with train loss: 90479813193.14285 and test loss: 118967663729.77777\n",
      "epoch 21/50 finished with train loss: 82391830723.04762 and test loss: 87814141269.33333\n",
      "epoch 22/50 finished with train loss: 81083028041.14285 and test loss: 102262493184.0\n",
      "epoch 23/50 finished with train loss: 81177873846.85715 and test loss: 97231148373.33333\n",
      "epoch 24/50 finished with train loss: 88523742354.28572 and test loss: 102900430620.44444\n",
      "epoch 25/50 finished with train loss: 90537362188.19048 and test loss: 97459930908.44444\n",
      "epoch 26/50 finished with train loss: 82181491955.80952 and test loss: 96081260999.11111\n",
      "epoch 27/50 finished with train loss: 78231227830.85715 and test loss: 98625945144.88889\n",
      "epoch 28/50 finished with train loss: 80809226044.95238 and test loss: 112770260081.77777\n",
      "epoch 29/50 finished with train loss: 76746903844.57143 and test loss: 103804192995.55556\n",
      "epoch 30/50 finished with train loss: 87473131032.38095 and test loss: 127139027171.55556\n",
      "epoch 31/50 finished with train loss: 79360398579.80952 and test loss: 84939429888.0\n",
      "epoch 32/50 finished with train loss: 71729646933.33333 and test loss: 88163105905.77777\n",
      "epoch 33/50 finished with train loss: 70667880545.5238 and test loss: 96701850055.11111\n",
      "epoch 34/50 finished with train loss: 70490518869.33333 and test loss: 89358032440.88889\n",
      "epoch 35/50 finished with train loss: 77328055832.38095 and test loss: 100993808611.55556\n",
      "epoch 36/50 finished with train loss: 73171970535.61905 and test loss: 283608374385.7778\n",
      "epoch 37/50 finished with train loss: 70797356178.28572 and test loss: 136478707256.88889\n",
      "epoch 38/50 finished with train loss: 67932089490.28571 and test loss: 91266100792.88889\n",
      "epoch 39/50 finished with train loss: 64143845083.42857 and test loss: 90273228117.33333\n",
      "epoch 40/50 finished with train loss: 63403808963.04762 and test loss: 96487427185.77777\n",
      "epoch 41/50 finished with train loss: 65339394633.14286 and test loss: 119306960896.0\n",
      "epoch 42/50 finished with train loss: 64909349449.14286 and test loss: 98371990414.22223\n",
      "epoch 43/50 finished with train loss: 62174875648.0 and test loss: 91766869560.88889\n",
      "epoch 44/50 finished with train loss: 59166316446.47619 and test loss: 96480834901.33333\n",
      "epoch 45/50 finished with train loss: 58649599219.809525 and test loss: 94822662599.11111\n",
      "epoch 46/50 finished with train loss: 60827361475.04762 and test loss: 100163769230.22223\n",
      "epoch 47/50 finished with train loss: 57821049514.666664 and test loss: 102478608611.55556\n",
      "epoch 48/50 finished with train loss: 61987805964.190475 and test loss: 117942218296.88889\n",
      "epoch 49/50 finished with train loss: 53811350479.2381 and test loss: 91580946204.44444\n",
      "epoch 50/50 finished with train loss: 56488941665.52381 and test loss: 112637809095.11111\n",
      "Wall time: 1h 32min 8s\n"
     ]
    }
   ],
   "source": [
    "%%time\n",
    "\n",
    "n_epochs = 50\n",
    "print('started!')\n",
    "train_losses = []\n",
    "test_losses = []\n",
    "for epoch in range(n_epochs):\n",
    "    train_batch_loss = 0\n",
    "    model.train()\n",
    "    for step, batch in enumerate(dataLoader_train):\n",
    "        x = batch[\"x\"]\n",
    "        img = batch[\"img\"]\n",
    "        y = batch[\"y\"]\n",
    "\n",
    "        optimizer.zero_grad()\n",
    "        outputs = model(x = x, img = img)\n",
    "        loss = criterion(outputs[:,0], y)\n",
    "        loss.backward()\n",
    "        optimizer.step()\n",
    "        train_batch_loss += loss.item()\n",
    "        optimizer.step()\n",
    "        optimizer.zero_grad()\n",
    "\n",
    "    test_batch_loss = 0\n",
    "    model.eval()\n",
    "    with torch.no_grad():\n",
    "        for step, batch in enumerate(dataLoader_test):\n",
    "            x = batch[\"x\"]\n",
    "            img = batch[\"img\"]\n",
    "            y = batch[\"y\"]\n",
    "            outputs = model(x = x, img = img)\n",
    "            loss = criterion(outputs[:,0], y)\n",
    "            test_batch_loss += loss.item()\n",
    "\n",
    "    print('epoch {}/{} finished with train loss: {} and test loss: {}'.format(epoch+1, n_epochs,\n",
    "                                                                              train_batch_loss / len(dataLoader_train),\n",
    "                                                                              test_batch_loss / len(dataLoader_test)))\n",
    "    train_losses.append(train_batch_loss / len(dataLoader_train))\n",
    "    test_losses.append(test_batch_loss / len(dataLoader_test))\n",
    "    \n",
    "torch.save(model.state_dict(), './model_two_input')"
   ]
  },
  {
   "cell_type": "code",
   "execution_count": 18,
   "metadata": {
    "execution": {
     "iopub.execute_input": "2022-07-23T04:03:19.350606Z",
     "iopub.status.busy": "2022-07-23T04:03:19.350265Z",
     "iopub.status.idle": "2022-07-23T04:04:20.525578Z",
     "shell.execute_reply": "2022-07-23T04:04:20.524832Z",
     "shell.execute_reply.started": "2022-07-23T04:03:19.350570Z"
    }
   },
   "outputs": [
    {
     "name": "stdout",
     "output_type": "stream",
     "text": [
      "\n",
      "Test Results :\n",
      "\n",
      "RSS : 516223804272872.5\n",
      "RSE : 335507.31102426874\n",
      "TSS : 616943636836543.9\n",
      "R Squared : 0.16325613321846544\n",
      "MSE : 112516086371.59314\n",
      "MAE : 255267.92065578685\n",
      "Accuracy with 10% : 0.16782911944202267\n",
      "\n",
      "Train Results :\n",
      "\n",
      "RSS : 719719153905007.0\n",
      "RSE : 259315.6738343454\n",
      "TSS : 1549134104234102.8\n",
      "R Squared : 0.5354055198075711\n",
      "MSE : 67232055479.2149\n",
      "MAE : 203018.28613673517\n",
      "Accuracy with 10% : 0.2135450723960766\n"
     ]
    }
   ],
   "source": [
    "def reg_report(true, pred, name='Test'):\n",
    "    print(\"\\n{} Results :\\n\".format(name))\n",
    "    print(\"RSS :\",sum((pred-true)**2))\n",
    "    print(\"RSE :\",math.sqrt(sum((pred-true)**2)*(1/(len(pred)-2))))\n",
    "    print(\"TSS :\",sum((true-true.mean())**2))\n",
    "    print(\"R Squared :\",1-(sum((pred-true)**2)/sum((true-true.mean())**2)))\n",
    "    print(\"MSE :\",((pred-true)**2).mean())\n",
    "    print('MAE :',(abs(pred-true)).mean())\n",
    "    print('Accuracy with 10% :', ((pred<=true*1.1) & (true*0.9<=pred)).mean())\n",
    "    \n",
    "\n",
    "def eval_report(y_train, pred_train,y_test, pred_test):\n",
    "    reg_report(y_train, pred_train, name='Train')\n",
    "    reg_report(y_test, pred_test, name='Test')\n",
    "    \n",
    "def res(dataLoader, name = 'Test'):  \n",
    "    trues = []\n",
    "    preds = []\n",
    "    model.eval()\n",
    "    with torch.no_grad():\n",
    "        for step, batch in enumerate(dataLoader):\n",
    "            x = batch[\"x\"]\n",
    "            img = batch[\"img\"]\n",
    "            y = batch[\"y\"]\n",
    "\n",
    "            outputs = model(x = x, img = img)\n",
    "\n",
    "            trues = trues + y.tolist()\n",
    "            preds = preds + outputs[:,0].tolist()\n",
    "\n",
    "\n",
    "    reg_report(true =  np.array(trues), pred = np.array(preds), name=name)\n",
    "\n",
    "res(dataLoader_test, name = 'Test')\n",
    "res(dataLoader_train, name = 'Train')"
   ]
  },
  {
   "cell_type": "code",
   "execution_count": 19,
   "metadata": {
    "execution": {
     "iopub.execute_input": "2022-07-23T04:04:20.528880Z",
     "iopub.status.busy": "2022-07-23T04:04:20.528537Z",
     "iopub.status.idle": "2022-07-23T04:04:20.700911Z",
     "shell.execute_reply": "2022-07-23T04:04:20.700004Z",
     "shell.execute_reply.started": "2022-07-23T04:04:20.528852Z"
    }
   },
   "outputs": [
    {
     "data": {
      "image/png": "[encoded data removed]",
      "text/plain": [
       "<Figure size 432x288 with 1 Axes>"
      ]
     },
     "metadata": {},
     "output_type": "display_data"
    }
   ],
   "source": [
    "import matplotlib.pyplot as plt\n",
    "\n",
    "plt.style.use(\"ggplot\")\n",
    "plt.figure()\n",
    "plt.plot(np.arange(0,len(train_losses1)), train_losses1, label=\"train_loss\")\n",
    "plt.plot(np.arange(0, len(test_losses1)), test_losses1, label=\"val_loss\")\n",
    "plt.title(\"Training and val Losses\")\n",
    "plt.xlabel(\"Epoch #\")\n",
    "plt.ylabel(\"Losses\")\n",
    "plt.legend()\n",
    "plt.show()"
   ]
  },
  {
   "cell_type": "code",
   "execution_count": 20,
   "metadata": {
    "execution": {
     "iopub.execute_input": "2022-07-23T04:04:20.702413Z",
     "iopub.status.busy": "2022-07-23T04:04:20.702098Z",
     "iopub.status.idle": "2022-07-23T04:04:20.864830Z",
     "shell.execute_reply": "2022-07-23T04:04:20.863907Z",
     "shell.execute_reply.started": "2022-07-23T04:04:20.702380Z"
    }
   },
   "outputs": [
    {
     "data": {
      "image/png": "[encoded data removed]",
      "text/plain": [
       "<Figure size 432x288 with 1 Axes>"
      ]
     },
     "metadata": {},
     "output_type": "display_data"
    }
   ],
   "source": [
    "import matplotlib.pyplot as plt\n",
    "\n",
    "plt.style.use(\"ggplot\")\n",
    "plt.figure()\n",
    "plt.plot(np.arange(0,len(train_losses)), train_losses, label=\"train_loss\")\n",
    "plt.plot(np.arange(0, len(test_losses)), test_losses, label=\"val_loss\")\n",
    "plt.title(\"Training and val Losses\")\n",
    "plt.xlabel(\"Epoch #\")\n",
    "plt.ylabel(\"Losses\")\n",
    "plt.legend()\n",
    "plt.show()"
   ]
  },
  {
   "cell_type": "code",
   "execution_count": null,
   "metadata": {},
   "outputs": [],
   "source": []
  }
 ],
 "metadata": {
  "kernelspec": {
   "display_name": "Python 3",
   "language": "python",
   "name": "python3"
  },
  "language_info": {
   "codemirror_mode": {
    "name": "ipython",
    "version": 3
   },
   "file_extension": ".py",
   "mimetype": "text/x-python",
   "name": "python",
   "nbconvert_exporter": "python",
   "pygments_lexer": "ipython3",
   "version": "3.7.1"
  }
 },
 "nbformat": 4,
 "nbformat_minor": 4
}
