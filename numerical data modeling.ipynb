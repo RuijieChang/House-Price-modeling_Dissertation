{
 "cells": [
  {
   "cell_type": "code",
   "execution_count": null,
   "metadata": {},
   "outputs": [],
   "source": [
    "import numpy as np # linear algebra\n",
    "import pandas as pd # data processing, CSV file I/O (e.g. pd.read_csv)\n",
    "import os\n",
    "import math\n",
    "\n",
    "from PIL import Image\n",
    "from numpy import asarray\n",
    "\n",
    "import torch\n",
    "from torch import nn\n",
    "from torch.nn import functional as F\n",
    "import torchvision\n",
    "import torchvision.transforms as transforms\n",
    "\n",
    "from sklearn.model_selection import train_test_split\n",
    "from mlxtend.plotting import plot_confusion_matrix\n",
    "from sklearn.metrics import confusion_matrix, classification_report\n",
    "from catboost import Pool, CatBoostClassifier\n",
    "from sklearn.metrics import roc_curve\n",
    "from sklearn.metrics import roc_auc_score\n",
    "\n",
    "import matplotlib.pyplot as plt\n",
    "import cv2\n",
    "# processing\n",
    "from sklearn.model_selection import train_test_split\n",
    "\n",
    "\n",
    "# for dirname, _, filenames in os.walk('/kaggle/input'):\n",
    "#     for filename in filenames:\n",
    "#         print(os.path.join(dirname, filename))\n",
    "\n"
   ]
  },
  {
   "cell_type": "code",
   "execution_count": 2,
   "metadata": {
    "execution": {
     "iopub.execute_input": "2022-08-04T13:30:04.737962Z",
     "iopub.status.busy": "2022-08-04T13:30:04.736698Z",
     "iopub.status.idle": "2022-08-04T13:30:04.892675Z",
     "shell.execute_reply": "2022-08-04T13:30:04.891505Z",
     "shell.execute_reply.started": "2022-08-04T13:30:04.737917Z"
    }
   },
   "outputs": [
    {
     "name": "stdout",
     "output_type": "stream",
     "text": [
      "(15474, 8)\n"
     ]
    },
    {
     "data": {
      "text/html": [
       "<div>\n",
       "<style scoped>\n",
       "    .dataframe tbody tr th:only-of-type {\n",
       "        vertical-align: middle;\n",
       "    }\n",
       "\n",
       "    .dataframe tbody tr th {\n",
       "        vertical-align: top;\n",
       "    }\n",
       "\n",
       "    .dataframe thead th {\n",
       "        text-align: right;\n",
       "    }\n",
       "</style>\n",
       "<table border=\"1\" class=\"dataframe\">\n",
       "  <thead>\n",
       "    <tr style=\"text-align: right;\">\n",
       "      <th></th>\n",
       "      <th>image_id</th>\n",
       "      <th>street</th>\n",
       "      <th>citi</th>\n",
       "      <th>n_citi</th>\n",
       "      <th>bed</th>\n",
       "      <th>bath</th>\n",
       "      <th>sqft</th>\n",
       "      <th>price</th>\n",
       "    </tr>\n",
       "  </thead>\n",
       "  <tbody>\n",
       "    <tr>\n",
       "      <th>0</th>\n",
       "      <td>0</td>\n",
       "      <td>1317 Van Buren Avenue</td>\n",
       "      <td>Salton City, CA</td>\n",
       "      <td>317</td>\n",
       "      <td>3</td>\n",
       "      <td>2.0</td>\n",
       "      <td>1560</td>\n",
       "      <td>201900</td>\n",
       "    </tr>\n",
       "    <tr>\n",
       "      <th>1</th>\n",
       "      <td>1</td>\n",
       "      <td>124 C Street W</td>\n",
       "      <td>Brawley, CA</td>\n",
       "      <td>48</td>\n",
       "      <td>3</td>\n",
       "      <td>2.0</td>\n",
       "      <td>713</td>\n",
       "      <td>228500</td>\n",
       "    </tr>\n",
       "    <tr>\n",
       "      <th>2</th>\n",
       "      <td>2</td>\n",
       "      <td>2304 Clark Road</td>\n",
       "      <td>Imperial, CA</td>\n",
       "      <td>152</td>\n",
       "      <td>3</td>\n",
       "      <td>1.0</td>\n",
       "      <td>800</td>\n",
       "      <td>273950</td>\n",
       "    </tr>\n",
       "    <tr>\n",
       "      <th>3</th>\n",
       "      <td>3</td>\n",
       "      <td>755 Brawley Avenue</td>\n",
       "      <td>Brawley, CA</td>\n",
       "      <td>48</td>\n",
       "      <td>3</td>\n",
       "      <td>1.0</td>\n",
       "      <td>1082</td>\n",
       "      <td>350000</td>\n",
       "    </tr>\n",
       "    <tr>\n",
       "      <th>4</th>\n",
       "      <td>4</td>\n",
       "      <td>2207 R Carrillo Court</td>\n",
       "      <td>Calexico, CA</td>\n",
       "      <td>55</td>\n",
       "      <td>4</td>\n",
       "      <td>3.0</td>\n",
       "      <td>2547</td>\n",
       "      <td>385100</td>\n",
       "    </tr>\n",
       "  </tbody>\n",
       "</table>\n",
       "</div>"
      ],
      "text/plain": [
       "   image_id                 street             citi  n_citi  bed  bath  sqft  \\\n",
       "0         0  1317 Van Buren Avenue  Salton City, CA     317    3   2.0  1560   \n",
       "1         1         124 C Street W      Brawley, CA      48    3   2.0   713   \n",
       "2         2        2304 Clark Road     Imperial, CA     152    3   1.0   800   \n",
       "3         3     755 Brawley Avenue      Brawley, CA      48    3   1.0  1082   \n",
       "4         4  2207 R Carrillo Court     Calexico, CA      55    4   3.0  2547   \n",
       "\n",
       "    price  \n",
       "0  201900  \n",
       "1  228500  \n",
       "2  273950  \n",
       "3  350000  \n",
       "4  385100  "
      ]
     },
     "metadata": {},
     "output_type": "display_data"
    },
    {
     "name": "stdout",
     "output_type": "stream",
     "text": [
      "<class 'pandas.core.frame.DataFrame'>\n",
      "RangeIndex: 15474 entries, 0 to 15473\n",
      "Data columns (total 8 columns):\n",
      " #   Column    Non-Null Count  Dtype  \n",
      "---  ------    --------------  -----  \n",
      " 0   image_id  15474 non-null  int64  \n",
      " 1   street    15474 non-null  object \n",
      " 2   citi      15474 non-null  object \n",
      " 3   n_citi    15474 non-null  int64  \n",
      " 4   bed       15474 non-null  int64  \n",
      " 5   bath      15474 non-null  float64\n",
      " 6   sqft      15474 non-null  int64  \n",
      " 7   price     15474 non-null  int64  \n",
      "dtypes: float64(1), int64(5), object(2)\n",
      "memory usage: 967.2+ KB\n"
     ]
    },
    {
     "data": {
      "text/plain": [
       "None"
      ]
     },
     "metadata": {},
     "output_type": "display_data"
    },
    {
     "data": {
      "text/html": [
       "<div>\n",
       "<style scoped>\n",
       "    .dataframe tbody tr th:only-of-type {\n",
       "        vertical-align: middle;\n",
       "    }\n",
       "\n",
       "    .dataframe tbody tr th {\n",
       "        vertical-align: top;\n",
       "    }\n",
       "\n",
       "    .dataframe thead th {\n",
       "        text-align: right;\n",
       "    }\n",
       "</style>\n",
       "<table border=\"1\" class=\"dataframe\">\n",
       "  <thead>\n",
       "    <tr style=\"text-align: right;\">\n",
       "      <th></th>\n",
       "      <th>image_id</th>\n",
       "      <th>n_citi</th>\n",
       "      <th>bed</th>\n",
       "      <th>bath</th>\n",
       "      <th>sqft</th>\n",
       "      <th>price</th>\n",
       "    </tr>\n",
       "  </thead>\n",
       "  <tbody>\n",
       "    <tr>\n",
       "      <th>count</th>\n",
       "      <td>15474.000000</td>\n",
       "      <td>15474.000000</td>\n",
       "      <td>15474.000000</td>\n",
       "      <td>15474.000000</td>\n",
       "      <td>15474.000000</td>\n",
       "      <td>1.547400e+04</td>\n",
       "    </tr>\n",
       "    <tr>\n",
       "      <th>mean</th>\n",
       "      <td>7736.500000</td>\n",
       "      <td>216.597518</td>\n",
       "      <td>3.506398</td>\n",
       "      <td>2.453251</td>\n",
       "      <td>2173.913209</td>\n",
       "      <td>7.031209e+05</td>\n",
       "    </tr>\n",
       "    <tr>\n",
       "      <th>std</th>\n",
       "      <td>4467.103368</td>\n",
       "      <td>112.372985</td>\n",
       "      <td>1.034838</td>\n",
       "      <td>0.958742</td>\n",
       "      <td>1025.339617</td>\n",
       "      <td>3.769762e+05</td>\n",
       "    </tr>\n",
       "    <tr>\n",
       "      <th>min</th>\n",
       "      <td>0.000000</td>\n",
       "      <td>0.000000</td>\n",
       "      <td>1.000000</td>\n",
       "      <td>0.000000</td>\n",
       "      <td>280.000000</td>\n",
       "      <td>1.950000e+05</td>\n",
       "    </tr>\n",
       "    <tr>\n",
       "      <th>25%</th>\n",
       "      <td>3868.250000</td>\n",
       "      <td>119.000000</td>\n",
       "      <td>3.000000</td>\n",
       "      <td>2.000000</td>\n",
       "      <td>1426.000000</td>\n",
       "      <td>4.450000e+05</td>\n",
       "    </tr>\n",
       "    <tr>\n",
       "      <th>50%</th>\n",
       "      <td>7736.500000</td>\n",
       "      <td>222.500000</td>\n",
       "      <td>3.000000</td>\n",
       "      <td>2.100000</td>\n",
       "      <td>1951.000000</td>\n",
       "      <td>6.390000e+05</td>\n",
       "    </tr>\n",
       "    <tr>\n",
       "      <th>75%</th>\n",
       "      <td>11604.750000</td>\n",
       "      <td>315.000000</td>\n",
       "      <td>4.000000</td>\n",
       "      <td>3.000000</td>\n",
       "      <td>2737.750000</td>\n",
       "      <td>8.349750e+05</td>\n",
       "    </tr>\n",
       "    <tr>\n",
       "      <th>max</th>\n",
       "      <td>15473.000000</td>\n",
       "      <td>414.000000</td>\n",
       "      <td>12.000000</td>\n",
       "      <td>36.000000</td>\n",
       "      <td>17667.000000</td>\n",
       "      <td>2.000000e+06</td>\n",
       "    </tr>\n",
       "  </tbody>\n",
       "</table>\n",
       "</div>"
      ],
      "text/plain": [
       "           image_id        n_citi           bed          bath          sqft  \\\n",
       "count  15474.000000  15474.000000  15474.000000  15474.000000  15474.000000   \n",
       "mean    7736.500000    216.597518      3.506398      2.453251   2173.913209   \n",
       "std     4467.103368    112.372985      1.034838      0.958742   1025.339617   \n",
       "min        0.000000      0.000000      1.000000      0.000000    280.000000   \n",
       "25%     3868.250000    119.000000      3.000000      2.000000   1426.000000   \n",
       "50%     7736.500000    222.500000      3.000000      2.100000   1951.000000   \n",
       "75%    11604.750000    315.000000      4.000000      3.000000   2737.750000   \n",
       "max    15473.000000    414.000000     12.000000     36.000000  17667.000000   \n",
       "\n",
       "              price  \n",
       "count  1.547400e+04  \n",
       "mean   7.031209e+05  \n",
       "std    3.769762e+05  \n",
       "min    1.950000e+05  \n",
       "25%    4.450000e+05  \n",
       "50%    6.390000e+05  \n",
       "75%    8.349750e+05  \n",
       "max    2.000000e+06  "
      ]
     },
     "metadata": {},
     "output_type": "display_data"
    }
   ],
   "source": [
    "data = pd.read_csv(r'C:\\Users\\ruijiec\\Downloads\\data\\socal2.csv')\n",
    "print(data.shape)\n",
    "display(data.head())\n",
    "display(data.info())\n",
    "display(data.describe())\n",
    "\n"
   ]
  },
  {
   "cell_type": "code",
   "execution_count": 3,
   "metadata": {
    "execution": {
     "iopub.execute_input": "2022-08-04T13:30:05.730689Z",
     "iopub.status.busy": "2022-08-04T13:30:05.727695Z",
     "iopub.status.idle": "2022-08-04T13:31:43.728963Z",
     "shell.execute_reply": "2022-08-04T13:31:43.727973Z",
     "shell.execute_reply.started": "2022-08-04T13:30:05.730643Z"
    }
   },
   "outputs": [
    {
     "name": "stdout",
     "output_type": "stream",
     "text": [
      "15473\n",
      "2600\n",
      "4754\n",
      "10000\n",
      "12498\n",
      "15469\n",
      "{(311, 415, 3), (350, 350, 3), (350, 525, 4)}\n",
      "177\n"
     ]
    }
   ],
   "source": [
    "print(data.image_id.max())\n",
    "imgs = []\n",
    "img_shapes = []\n",
    "c = 0\n",
    "for i in  range(data.image_id.max()):\n",
    "    try:\n",
    "        image = Image.open('C:/Users/ruijiec/Downloads/data/socal2/socal_pics/{}.jpg'.format(i))\n",
    "    #     plt.imshow(image)\n",
    "    #     plt.show()\n",
    "        img_data = asarray(image)\n",
    "    #     np.transpose(data, (2,0,1)).shape\n",
    "        imgs.append(np.transpose(img_data, (2,0,1)))\n",
    "        img_shapes.append(img_data.shape)\n",
    "        if (311, 415, 3) != img_data.shape:\n",
    "            c+=1\n",
    "    except:\n",
    "        print(i)\n",
    "    \n",
    "print(len(imgs))\n",
    "print(set(img_shapes))\n",
    "print(c)"
   ]
  },
  {
   "cell_type": "code",
   "execution_count": 4,
   "metadata": {
    "execution": {
     "iopub.execute_input": "2022-08-04T13:31:43.736020Z",
     "iopub.status.busy": "2022-08-04T13:31:43.733588Z",
     "iopub.status.idle": "2022-08-04T13:32:28.393705Z",
     "shell.execute_reply": "2022-08-04T13:32:28.392584Z",
     "shell.execute_reply.started": "2022-08-04T13:31:43.735979Z"
    }
   },
   "outputs": [
    {
     "name": "stdout",
     "output_type": "stream",
     "text": [
      "0\n",
      "1000\n",
      "2000\n",
      "3000\n",
      "4000\n",
      "5000\n",
      "6000\n",
      "7000\n",
      "8000\n",
      "9000\n",
      "10000\n",
      "11000\n",
      "12000\n",
      "13000\n",
      "14000\n",
      "15000\n",
      "181\n",
      "[0, 14, 373, 477, 482, 550, 717, 747, 752, 903, 1128, 1208, 1312, 1697, 1725, 1908, 2385, 2554, 2600, 2729, 3545, 3747, 4754, 4923, 4925, 4926, 4927, 4928, 4929, 4936, 4949, 5013, 5037, 5062, 5117, 5118, 5119, 5120, 5121, 5124, 5129, 5134, 5135, 5136, 5177, 5180, 5312, 5313, 5368, 5413, 5510, 5511, 5524, 5530, 5533, 5551, 5591, 5640, 5648, 5657, 5705, 5712, 5713, 5719, 5720, 5725, 5728, 5744, 5757, 5782, 5833, 5862, 5906, 5913, 5924, 5925, 5934, 5935, 5941, 5942, 5953, 6000, 6108, 6109, 6114, 6115, 6142, 6165, 6304, 6305, 6306, 6322, 6483, 6488, 6489, 6502, 6503, 6506, 6509, 6510, 6511, 6526, 6649, 6672, 6697, 6698, 6701, 6714, 6770, 6835, 6836, 6854, 6872, 6873, 6893, 6895, 6948, 6969, 6992, 7029, 7033, 7037, 7039, 7065, 7090, 7093, 7108, 7144, 7162, 7163, 7193, 7291, 7297, 7321, 7333, 7336, 7484, 7485, 7493, 7496, 7518, 7523, 7526, 7535, 7542, 7677, 7678, 7681, 7682, 7684, 7685, 7736, 7743, 7751, 7816, 7874, 7876, 7877, 7888, 7907, 7969, 8238, 8709, 8809, 8886, 8895, 9081, 9194, 9492, 10000, 10488, 10609, 11821, 11822, 11998, 12024, 12498, 12623, 14476, 14481, 14875]\n"
     ]
    }
   ],
   "source": [
    "exclude_list = []\n",
    "for i in  range(data.image_id.max()):\n",
    "    image = Image.open('C:/Users/ruijiec/Downloads/data/socal2/socal_pics/{}.jpg'.format(i))\n",
    "    temp = asarray(image)\n",
    "    if i%1000==0:\n",
    "        print(i)\n",
    "    if (311, 415, 3) != temp.shape:\n",
    "        exclude_list.append(i)\n",
    "\n",
    "print(len(exclude_list))\n",
    "print(exclude_list)\n",
    "\n",
    "# exclude_list = [0, 14, 373, 477, 482, 550, 717, 747, 752, 903, 1128, 1208, 1312, 1697, 1725, 1908, 2385, 2554, 2600, 2729, 3545, 3747, 4754, 4923, 4925, 4926, 4927, 4928, 4929, 4936, 4949, 5013, 5037, 5062, 5117, 5118, 5119, 5120, 5121, 5124, 5129, 5134, 5135, 5136, 5177, 5180, 5312, 5313, 5368, 5413, 5510, 5511, 5524, 5530, 5533, 5551, 5591, 5640, 5648, 5657, 5705, 5712, 5713, 5719, 5720, 5725, 5728, 5744, 5757, 5782, 5833, 5862, 5906, 5913, 5924, 5925, 5934, 5935, 5941, 5942, 5953, 6000, 6108, 6109, 6114, 6115, 6142, 6165, 6304, 6305, 6306, 6322, 6483, 6488, 6489, 6502, 6503, 6506, 6509, 6510, 6511, 6526, 6649, 6672, 6697, 6698, 6701, 6714, 6770, 6835, 6836, 6854, 6872, 6873, 6893, 6895, 6948, 6969, 6992, 7029, 7033, 7037, 7039, 7065, 7090, 7093, 7108, 7144, 7162, 7163, 7193, 7291, 7297, 7321, 7333, 7336, 7484, 7485, 7493, 7496, 7518, 7523, 7526, 7535, 7542, 7677, 7678, 7681, 7682, 7684, 7685, 7736, 7743, 7751, 7816, 7874, 7876, 7877, 7888, 7907, 7969, 8238, 8709, 8809, 8886, 8895, 9081, 9194, 9492, 10000, 10488, 10609, 11821, 11822, 11998, 12024, 12498, 12623, 14476, 14481, 14875]"
   ]
  },
  {
   "cell_type": "code",
   "execution_count": 5,
   "metadata": {
    "execution": {
     "iopub.execute_input": "2022-08-04T13:32:28.396034Z",
     "iopub.status.busy": "2022-08-04T13:32:28.395373Z",
     "iopub.status.idle": "2022-08-04T13:32:28.410585Z",
     "shell.execute_reply": "2022-08-04T13:32:28.409633Z",
     "shell.execute_reply.started": "2022-08-04T13:32:28.395996Z"
    }
   },
   "outputs": [
    {
     "data": {
      "text/plain": [
       "Series([], dtype: int64)"
      ]
     },
     "execution_count": 5,
     "metadata": {},
     "output_type": "execute_result"
    }
   ],
   "source": [
    "null_count = data.isnull().sum().sort_values(ascending = False)\n",
    "null_count = null_count[null_count>0]\n",
    "null_count"
   ]
  },
  {
   "cell_type": "code",
   "execution_count": 19,
   "metadata": {
    "execution": {
     "iopub.execute_input": "2022-08-04T13:32:28.412193Z",
     "iopub.status.busy": "2022-08-04T13:32:28.411868Z",
     "iopub.status.idle": "2022-08-04T13:32:28.428975Z",
     "shell.execute_reply": "2022-08-04T13:32:28.427873Z",
     "shell.execute_reply.started": "2022-08-04T13:32:28.412144Z"
    }
   },
   "outputs": [
    {
     "name": "stdout",
     "output_type": "stream",
     "text": [
      "(10705, 5)\n",
      "(10705,)\n",
      "(4588, 5)\n",
      "(4588,)\n"
     ]
    }
   ],
   "source": [
    "temp = data[~data.image_id.isin(exclude_list)]\n",
    "x_train, x_test, y_train, y_test = train_test_split(temp.drop(['price', 'citi', 'street'], axis=1), temp['price'], test_size=0.30, random_state=42)\n",
    "print(x_train.shape)\n",
    "print(y_train.shape)\n",
    "print(x_test.shape)\n",
    "print(y_test.shape)"
   ]
  },
  {
   "cell_type": "code",
   "execution_count": 20,
   "metadata": {
    "execution": {
     "iopub.execute_input": "2022-08-04T13:32:28.431387Z",
     "iopub.status.busy": "2022-08-04T13:32:28.430978Z",
     "iopub.status.idle": "2022-08-04T13:32:58.562107Z",
     "shell.execute_reply": "2022-08-04T13:32:58.560870Z",
     "shell.execute_reply.started": "2022-08-04T13:32:28.431348Z"
    }
   },
   "outputs": [
    {
     "name": "stdout",
     "output_type": "stream",
     "text": [
      "No. of images:  10705\n",
      "Wall time: 20.3 s\n"
     ]
    }
   ],
   "source": [
    "%%time\n",
    "cnt=0\n",
    "images_path='C:/Users/ruijiec/Downloads/data/socal2/socal_pics'\n",
    "x_train_images=np.zeros((x_train.shape[0],64,64,3),dtype='uint32')\n",
    "for i in x_train.image_id:\n",
    "    sample=cv2.imread(images_path+'/'+str(i)+'.jpg')\n",
    "    imgs=cv2.resize(sample,(64,64))\n",
    "    x_train_images[cnt]=imgs\n",
    "    cnt+=1\n",
    "\n",
    "print(\"No. of images: \",cnt)"
   ]
  },
  {
   "cell_type": "code",
   "execution_count": 21,
   "metadata": {
    "execution": {
     "iopub.execute_input": "2022-08-04T13:32:58.567699Z",
     "iopub.status.busy": "2022-08-04T13:32:58.567398Z",
     "iopub.status.idle": "2022-08-04T13:33:10.931304Z",
     "shell.execute_reply": "2022-08-04T13:33:10.930247Z",
     "shell.execute_reply.started": "2022-08-04T13:32:58.567671Z"
    }
   },
   "outputs": [
    {
     "name": "stdout",
     "output_type": "stream",
     "text": [
      "No. of images:  4588\n",
      "Wall time: 7.58 s\n"
     ]
    }
   ],
   "source": [
    "%%time\n",
    "cnt=0\n",
    "images_path='C:/Users/ruijiec/Downloads/data/socal2/socal_pics'\n",
    "x_test_images=np.zeros((x_test.shape[0],64,64,3),dtype='uint32')\n",
    "for i in x_test.image_id:\n",
    "    sample=cv2.imread(images_path+'/'+str(i)+'.jpg')\n",
    "    imgs=cv2.resize(sample,(64,64))\n",
    "    x_test_images[cnt]=imgs\n",
    "    cnt+=1\n",
    "\n",
    "print(\"No. of images: \",cnt)"
   ]
  },
  {
   "cell_type": "code",
   "execution_count": 22,
   "metadata": {
    "execution": {
     "iopub.execute_input": "2022-08-04T13:33:10.933275Z",
     "iopub.status.busy": "2022-08-04T13:33:10.932592Z",
     "iopub.status.idle": "2022-08-04T13:33:10.945127Z",
     "shell.execute_reply": "2022-08-04T13:33:10.943897Z",
     "shell.execute_reply.started": "2022-08-04T13:33:10.933236Z"
    }
   },
   "outputs": [],
   "source": [
    "class MyDataset_text(torch.utils.data.Dataset):\n",
    "    def __init__(self, x, y):\n",
    "        self.x = torch.tensor(x[['n_citi','bed', 'bath', 'sqft']].values).float()\n",
    "        #self.img = img\n",
    "        self.y = torch.tensor(y.values).float()\n",
    "\n",
    "    def __len__(self):\n",
    "        return len(self.x)\n",
    "\n",
    "    \n",
    "    def __getitem__(self, idx):\n",
    "        x = self.x[idx]\n",
    "        y = self.y[idx]\n",
    "        #img = self.img[idx]\n",
    "        #img = torchvision.transforms.functional.to_tensor(img.astype(np.uint8).reshape((64, 64, 3)))\n",
    "        #return {'x': x, 'y': y, 'img': img}\n",
    "        return {'x': x, 'y': y}\n",
    "    \n",
    "BATCH_SIZE = 256    \n",
    "train_dataset_text = MyDataset_text(x_train, y_train)\n",
    "dataLoader_train_text = torch.utils.data.DataLoader(train_dataset_text,\n",
    "                                               batch_size=BATCH_SIZE,\n",
    "                                               shuffle=True)\n",
    "\n",
    "test_dataset_text = MyDataset_text(x_test, y_test)\n",
    "dataLoader_test_text = torch.utils.data.DataLoader(test_dataset_text,\n",
    "                                              batch_size=BATCH_SIZE,\n",
    "                                              shuffle=True)\n"
   ]
  },
  {
   "cell_type": "code",
   "execution_count": 23,
   "metadata": {
    "execution": {
     "iopub.execute_input": "2022-08-04T13:33:10.947646Z",
     "iopub.status.busy": "2022-08-04T13:33:10.946739Z",
     "iopub.status.idle": "2022-08-04T13:33:10.958982Z",
     "shell.execute_reply": "2022-08-04T13:33:10.957719Z",
     "shell.execute_reply.started": "2022-08-04T13:33:10.947608Z"
    }
   },
   "outputs": [],
   "source": [
    "class MyDataset_img(torch.utils.data.Dataset):\n",
    "    def __init__(self, img, y):\n",
    "        #self.x = torch.tensor(x[['n_citi', 'bed', 'bath', 'sqft']].values).float()\n",
    "        self.img = img\n",
    "        self.y = torch.tensor(y.values).float()\n",
    "\n",
    "    def __len__(self):\n",
    "        return len(self.img)\n",
    "\n",
    "    \n",
    "    def __getitem__(self, idx):\n",
    "        x = self.x[idx]\n",
    "        y = self.y[idx]\n",
    "        img = self.img[idx]\n",
    "        img = torchvision.transforms.functional.to_tensor(img.astype(np.uint8).reshape((64, 64, 3)))\n",
    "        return {'y': y, 'img': img}\n",
    "        #return {'x': x, 'y': y}\n",
    "    \n",
    "BATCH_SIZE = 256    \n",
    "train_dataset_img = MyDataset_img(x_train_images, y_train)\n",
    "dataLoader_train_img = torch.utils.data.DataLoader(train_dataset_img,\n",
    "                                               batch_size=BATCH_SIZE,\n",
    "                                               shuffle=True)\n",
    "\n",
    "test_dataset_img = MyDataset_img(x_test_images, y_test)\n",
    "dataLoader_test_img = torch.utils.data.DataLoader(test_dataset_img,\n",
    "                                              batch_size=BATCH_SIZE,\n",
    "                                              shuffle=True)\n"
   ]
  },
  {
   "cell_type": "code",
   "execution_count": 31,
   "metadata": {
    "execution": {
     "iopub.execute_input": "2022-08-04T13:33:10.961905Z",
     "iopub.status.busy": "2022-08-04T13:33:10.960900Z",
     "iopub.status.idle": "2022-08-04T13:33:10.976086Z",
     "shell.execute_reply": "2022-08-04T13:33:10.974978Z",
     "shell.execute_reply.started": "2022-08-04T13:33:10.961863Z"
    }
   },
   "outputs": [],
   "source": [
    "class MyDataset(torch.utils.data.Dataset):\n",
    "    def __init__(self, x, img, y):\n",
    "        self.x = torch.tensor(x[['n_citi','bed', 'bath', 'sqft']].values).float()\n",
    "        self.img = img\n",
    "        self.y = torch.tensor(y.values).float()\n",
    "\n",
    "    def __len__(self):\n",
    "        return len(self.x)\n",
    "\n",
    "    \n",
    "    def __getitem__(self, idx):\n",
    "        x = self.x[idx]\n",
    "        y = self.y[idx]\n",
    "        img = self.img[idx]\n",
    "        img = torchvision.transforms.functional.to_tensor(img.astype(np.uint8).reshape((64, 64, 3)))\n",
    "        return {'x': x, 'y': y, 'img': img}\n",
    "    \n",
    "BATCH_SIZE = 256    \n",
    "train_dataset = MyDataset(x_train,x_train_images, y_train)\n",
    "dataLoader_train = torch.utils.data.DataLoader(train_dataset,\n",
    "                                               batch_size=BATCH_SIZE,\n",
    "                                               shuffle=True)\n",
    "\n",
    "test_dataset = MyDataset(x_test,x_test_images, y_test)\n",
    "dataLoader_test = torch.utils.data.DataLoader(test_dataset,\n",
    "                                              batch_size=BATCH_SIZE,\n",
    "                                              shuffle=True)\n"
   ]
  },
  {
   "cell_type": "code",
   "execution_count": 32,
   "metadata": {
    "execution": {
     "iopub.execute_input": "2022-08-04T13:33:10.979457Z",
     "iopub.status.busy": "2022-08-04T13:33:10.978313Z",
     "iopub.status.idle": "2022-08-04T13:33:11.004287Z",
     "shell.execute_reply": "2022-08-04T13:33:11.002893Z",
     "shell.execute_reply.started": "2022-08-04T13:33:10.979412Z"
    }
   },
   "outputs": [
    {
     "name": "stdout",
     "output_type": "stream",
     "text": [
      "Model_img(\n",
      "  (conv): Sequential(\n",
      "    (0): Conv2d(3, 32, kernel_size=(3, 3), stride=(1, 1))\n",
      "    (1): ReLU()\n",
      "    (2): BatchNorm2d(32, eps=1e-05, momentum=0.1, affine=True, track_running_stats=True)\n",
      "    (3): Conv2d(32, 64, kernel_size=(5, 5), stride=(1, 1))\n",
      "    (4): ReLU()\n",
      "    (5): BatchNorm2d(64, eps=1e-05, momentum=0.1, affine=True, track_running_stats=True)\n",
      "    (6): Conv2d(64, 64, kernel_size=(5, 5), stride=(1, 1))\n",
      "    (7): ReLU()\n",
      "    (8): BatchNorm2d(64, eps=1e-05, momentum=0.1, affine=True, track_running_stats=True)\n",
      "  )\n",
      "  (flatten): Sequential(\n",
      "    (0): AdaptiveMaxPool2d(output_size=1)\n",
      "    (1): Flatten(start_dim=1, end_dim=-1)\n",
      "  )\n",
      "  (fc): Sequential(\n",
      "    (0): Linear(in_features=3, out_features=256, bias=True)\n",
      "    (1): ReLU()\n",
      "    (2): Linear(in_features=256, out_features=128, bias=True)\n",
      "    (3): ReLU()\n",
      "  )\n",
      "  (final_fc): Sequential(\n",
      "    (0): Linear(in_features=64, out_features=512, bias=True)\n",
      "    (1): ReLU()\n",
      "    (2): Linear(in_features=512, out_features=256, bias=True)\n",
      "    (3): ReLU()\n",
      "    (4): Linear(in_features=256, out_features=1, bias=True)\n",
      "  )\n",
      ")\n"
     ]
    }
   ],
   "source": [
    "class Model_img(torch.nn.Module):\n",
    "    \n",
    "    def __init__(self, input_shape):\n",
    "        super().__init__()\n",
    "        \n",
    "        self.conv = torch.nn.Sequential(\n",
    "            torch.nn.Conv2d(in_channels=3, out_channels=32, kernel_size=(3, 3)),\n",
    "            torch.nn.ReLU(),\n",
    "            torch.nn.BatchNorm2d(32),\n",
    "            torch.nn.Conv2d(in_channels=32, out_channels=64, kernel_size=(5, 5)),\n",
    "            torch.nn.ReLU(),\n",
    "            torch.nn.BatchNorm2d(64),\n",
    "            torch.nn.Conv2d(in_channels=64, out_channels=64, kernel_size=(5, 5)),\n",
    "            torch.nn.ReLU(),\n",
    "            torch.nn.BatchNorm2d(64),\n",
    "        )\n",
    "        \n",
    "        self.flatten = torch.nn.Sequential(torch.nn.AdaptiveMaxPool2d(1), torch.nn.Flatten())\n",
    "        \n",
    "        self.fc = torch.nn.Sequential(\n",
    "            torch.nn.Linear(input_shape, 256),\n",
    "            torch.nn.ReLU(),\n",
    "            torch.nn.Linear(256, 128),\n",
    "            torch.nn.ReLU(),\n",
    "        )\n",
    "        \n",
    "        self.final_fc = torch.nn.Sequential(\n",
    "            torch.nn.Linear(64, 512),\n",
    "            torch.nn.ReLU(),\n",
    "            torch.nn.Linear(512, 256),\n",
    "            torch.nn.ReLU(),\n",
    "            torch.nn.Linear(256, 1)\n",
    "        )\n",
    "        \n",
    "    def forward(self, img):\n",
    "        img = self.conv(img)\n",
    "        img = self.flatten(img) \n",
    "        #x = self.fc(x)\n",
    "        #combined = torch.cat((img, x), 1)\n",
    "        price = self.final_fc(img)\n",
    "        return price\n",
    "    \n",
    "model_img = Model_img(3)\n",
    "print(model_img)\n",
    "criterion = torch.nn.MSELoss()\n",
    "optimizer = torch.optim.Adam(model_img.parameters(), lr=5e-4)"
   ]
  },
  {
   "cell_type": "code",
   "execution_count": 33,
   "metadata": {
    "execution": {
     "iopub.execute_input": "2022-08-04T13:33:11.006560Z",
     "iopub.status.busy": "2022-08-04T13:33:11.005894Z",
     "iopub.status.idle": "2022-08-04T13:33:11.015695Z",
     "shell.execute_reply": "2022-08-04T13:33:11.014613Z",
     "shell.execute_reply.started": "2022-08-04T13:33:11.006524Z"
    }
   },
   "outputs": [
    {
     "data": {
      "text/plain": [
       "'\\n%%time\\n\\nn_epochs = 10\\nprint(\\'started!\\')\\ntrain_losses = []\\ntest_losses = []\\nfor epoch in range(n_epochs):\\n    train_batch_loss = 0\\n    model_img.train()\\n    for step, batch in enumerate(dataLoader_train):\\n        x = batch[\"x\"]\\n        img = batch[\"img\"]\\n        y = batch[\"y\"]\\n\\n        optimizer.zero_grad()\\n        outputs = model_img(img = img)\\n        loss = criterion(outputs[:,0], y)\\n        loss.backward()\\n        optimizer.step()\\n        train_batch_loss += loss.item()\\n        optimizer.step()\\n        optimizer.zero_grad()\\n\\n    test_batch_loss = 0\\n    model_img.eval()\\n    with torch.no_grad():\\n        for step, batch in enumerate(dataLoader_test):\\n            x = batch[\"x\"]\\n            img = batch[\"img\"]\\n            y = batch[\"y\"]\\n            outputs = model_img(img = img)\\n            loss = criterion(outputs[:,0], y)\\n            test_batch_loss += loss.item()\\n\\n    print(\\'epoch {}/{} finished with train loss: {} and test loss: {}\\'.format(epoch+1, n_epochs,\\n                                                                              train_batch_loss / len(dataLoader_train),\\n                                                                              test_batch_loss / len(dataLoader_test)))\\n    train_losses.append(train_batch_loss / len(dataLoader_train))\\n    test_losses.append(test_batch_loss / len(dataLoader_test))\\n    \\n    \\ntorch.save(model_img.state_dict(), \\'./model_img_input\\')\\n'"
      ]
     },
     "execution_count": 33,
     "metadata": {},
     "output_type": "execute_result"
    }
   ],
   "source": [
    "'''\n",
    "%%time\n",
    "\n",
    "n_epochs = 10\n",
    "print('started!')\n",
    "train_losses = []\n",
    "test_losses = []\n",
    "for epoch in range(n_epochs):\n",
    "    train_batch_loss = 0\n",
    "    model_img.train()\n",
    "    for step, batch in enumerate(dataLoader_train):\n",
    "        x = batch[\"x\"]\n",
    "        img = batch[\"img\"]\n",
    "        y = batch[\"y\"]\n",
    "\n",
    "        optimizer.zero_grad()\n",
    "        outputs = model_img(img = img)\n",
    "        loss = criterion(outputs[:,0], y)\n",
    "        loss.backward()\n",
    "        optimizer.step()\n",
    "        train_batch_loss += loss.item()\n",
    "        optimizer.step()\n",
    "        optimizer.zero_grad()\n",
    "\n",
    "    test_batch_loss = 0\n",
    "    model_img.eval()\n",
    "    with torch.no_grad():\n",
    "        for step, batch in enumerate(dataLoader_test):\n",
    "            x = batch[\"x\"]\n",
    "            img = batch[\"img\"]\n",
    "            y = batch[\"y\"]\n",
    "            outputs = model_img(img = img)\n",
    "            loss = criterion(outputs[:,0], y)\n",
    "            test_batch_loss += loss.item()\n",
    "\n",
    "    print('epoch {}/{} finished with train loss: {} and test loss: {}'.format(epoch+1, n_epochs,\n",
    "                                                                              train_batch_loss / len(dataLoader_train),\n",
    "                                                                              test_batch_loss / len(dataLoader_test)))\n",
    "    train_losses.append(train_batch_loss / len(dataLoader_train))\n",
    "    test_losses.append(test_batch_loss / len(dataLoader_test))\n",
    "    \n",
    "    \n",
    "torch.save(model_img.state_dict(), './model_img_input')\n",
    "'''"
   ]
  },
  {
   "cell_type": "code",
   "execution_count": 34,
   "metadata": {
    "execution": {
     "iopub.execute_input": "2022-08-04T13:33:11.018355Z",
     "iopub.status.busy": "2022-08-04T13:33:11.017638Z",
     "iopub.status.idle": "2022-08-04T13:33:11.031546Z",
     "shell.execute_reply": "2022-08-04T13:33:11.030466Z",
     "shell.execute_reply.started": "2022-08-04T13:33:11.018305Z"
    }
   },
   "outputs": [
    {
     "data": {
      "text/plain": [
       "'\\ndef reg_report(true, pred, name=\\'Test\\'):\\n    print(\"\\n{} Results :\\n\".format(name))\\n    print(\"RSS :\",sum((pred-true)**2))\\n    print(\"RSE :\",math.sqrt(sum((pred-true)**2)*(1/(len(pred)-2))))\\n    print(\"TSS :\",sum((true-true.mean())**2))\\n    print(\"R Squared :\",1-(sum((pred-true)**2)/sum((true-true.mean())**2)))\\n    print(\"MSE :\",((pred-true)**2).mean())\\n    print(\\'MAE :\\',(abs(pred-true)).mean())\\n    print(\\'Accuracy with 10% :\\', ((pred<=true*1.1) & (true*0.9<=pred)).mean())\\n    \\n\\ndef eval_report(y_train, pred_train,y_test, pred_test):\\n    reg_report(y_train, pred_train, name=\\'Train\\')\\n    reg_report(y_test, pred_test, name=\\'Test\\')\\n    \\ndef res(dataLoader, name = \\'Test\\'):  \\n    trues = []\\n    preds = []\\n    model_img.eval()\\n    with torch.no_grad():\\n        for step, batch in enumerate(dataLoader):\\n            x = batch[\"x\"]\\n            img = batch[\"img\"]\\n            y = batch[\"y\"]\\n\\n            outputs = model_img(img = img)\\n\\n            trues = trues + y.tolist()\\n            preds = preds + outputs[:,0].tolist()\\n\\n\\n    reg_report(true =  np.array(trues), pred = np.array(preds), name=name)\\n\\nres(dataLoader_test, name = \\'Test\\')\\nres(dataLoader_train, name = \\'Train\\')\\n'"
      ]
     },
     "execution_count": 34,
     "metadata": {},
     "output_type": "execute_result"
    }
   ],
   "source": [
    "'''\n",
    "def reg_report(true, pred, name='Test'):\n",
    "    print(\"\\n{} Results :\\n\".format(name))\n",
    "    print(\"RSS :\",sum((pred-true)**2))\n",
    "    print(\"RSE :\",math.sqrt(sum((pred-true)**2)*(1/(len(pred)-2))))\n",
    "    print(\"TSS :\",sum((true-true.mean())**2))\n",
    "    print(\"R Squared :\",1-(sum((pred-true)**2)/sum((true-true.mean())**2)))\n",
    "    print(\"MSE :\",((pred-true)**2).mean())\n",
    "    print('MAE :',(abs(pred-true)).mean())\n",
    "    print('Accuracy with 10% :', ((pred<=true*1.1) & (true*0.9<=pred)).mean())\n",
    "    \n",
    "\n",
    "def eval_report(y_train, pred_train,y_test, pred_test):\n",
    "    reg_report(y_train, pred_train, name='Train')\n",
    "    reg_report(y_test, pred_test, name='Test')\n",
    "    \n",
    "def res(dataLoader, name = 'Test'):  \n",
    "    trues = []\n",
    "    preds = []\n",
    "    model_img.eval()\n",
    "    with torch.no_grad():\n",
    "        for step, batch in enumerate(dataLoader):\n",
    "            x = batch[\"x\"]\n",
    "            img = batch[\"img\"]\n",
    "            y = batch[\"y\"]\n",
    "\n",
    "            outputs = model_img(img = img)\n",
    "\n",
    "            trues = trues + y.tolist()\n",
    "            preds = preds + outputs[:,0].tolist()\n",
    "\n",
    "\n",
    "    reg_report(true =  np.array(trues), pred = np.array(preds), name=name)\n",
    "\n",
    "res(dataLoader_test, name = 'Test')\n",
    "res(dataLoader_train, name = 'Train')\n",
    "'''"
   ]
  },
  {
   "cell_type": "code",
   "execution_count": 35,
   "metadata": {
    "execution": {
     "iopub.execute_input": "2022-08-04T13:33:11.033655Z",
     "iopub.status.busy": "2022-08-04T13:33:11.033165Z",
     "iopub.status.idle": "2022-08-04T13:33:11.046095Z",
     "shell.execute_reply": "2022-08-04T13:33:11.044807Z",
     "shell.execute_reply.started": "2022-08-04T13:33:11.033619Z"
    }
   },
   "outputs": [
    {
     "data": {
      "text/plain": [
       "'\\nimport matplotlib.pyplot as plt\\n\\nplt.style.use(\"ggplot\")\\nplt.figure()\\nplt.plot(np.arange(0,len(train_losses)), train_losses, label=\"train_loss\")\\nplt.plot(np.arange(0, len(test_losses)), test_losses, label=\"val_loss\")\\nplt.title(\"Training and val Losses\")\\nplt.xlabel(\"Epoch #\")\\nplt.ylabel(\"Losses\")\\nplt.legend()\\nplt.show()\\n'"
      ]
     },
     "execution_count": 35,
     "metadata": {},
     "output_type": "execute_result"
    }
   ],
   "source": [
    "'''\n",
    "import matplotlib.pyplot as plt\n",
    "\n",
    "plt.style.use(\"ggplot\")\n",
    "plt.figure()\n",
    "plt.plot(np.arange(0,len(train_losses)), train_losses, label=\"train_loss\")\n",
    "plt.plot(np.arange(0, len(test_losses)), test_losses, label=\"val_loss\")\n",
    "plt.title(\"Training and val Losses\")\n",
    "plt.xlabel(\"Epoch #\")\n",
    "plt.ylabel(\"Losses\")\n",
    "plt.legend()\n",
    "plt.show()\n",
    "'''"
   ]
  },
  {
   "cell_type": "code",
   "execution_count": 36,
   "metadata": {
    "execution": {
     "iopub.execute_input": "2022-08-04T13:36:55.118235Z",
     "iopub.status.busy": "2022-08-04T13:36:55.117284Z",
     "iopub.status.idle": "2022-08-04T13:36:55.141378Z",
     "shell.execute_reply": "2022-08-04T13:36:55.139794Z",
     "shell.execute_reply.started": "2022-08-04T13:36:55.118192Z"
    }
   },
   "outputs": [
    {
     "name": "stdout",
     "output_type": "stream",
     "text": [
      "Model_text(\n",
      "  (conv): Sequential(\n",
      "    (0): Conv2d(3, 32, kernel_size=(3, 3), stride=(1, 1))\n",
      "    (1): ReLU()\n",
      "    (2): BatchNorm2d(32, eps=1e-05, momentum=0.1, affine=True, track_running_stats=True)\n",
      "    (3): Conv2d(32, 64, kernel_size=(5, 5), stride=(1, 1))\n",
      "    (4): ReLU()\n",
      "    (5): BatchNorm2d(64, eps=1e-05, momentum=0.1, affine=True, track_running_stats=True)\n",
      "    (6): Conv2d(64, 64, kernel_size=(5, 5), stride=(1, 1))\n",
      "    (7): ReLU()\n",
      "    (8): BatchNorm2d(64, eps=1e-05, momentum=0.1, affine=True, track_running_stats=True)\n",
      "  )\n",
      "  (flatten): Sequential(\n",
      "    (0): AdaptiveMaxPool2d(output_size=1)\n",
      "    (1): Flatten(start_dim=1, end_dim=-1)\n",
      "  )\n",
      "  (fc): Sequential(\n",
      "    (0): Linear(in_features=4, out_features=256, bias=True)\n",
      "    (1): ReLU()\n",
      "    (2): Linear(in_features=256, out_features=128, bias=True)\n",
      "    (3): ReLU()\n",
      "  )\n",
      "  (final_fc): Sequential(\n",
      "    (0): Linear(in_features=128, out_features=512, bias=True)\n",
      "    (1): ReLU()\n",
      "    (2): Linear(in_features=512, out_features=256, bias=True)\n",
      "    (3): ReLU()\n",
      "    (4): Linear(in_features=256, out_features=1, bias=True)\n",
      "  )\n",
      ")\n"
     ]
    }
   ],
   "source": [
    "class Model_text(torch.nn.Module):\n",
    "    \n",
    "    def __init__(self, input_shape):\n",
    "        super().__init__()\n",
    "        \n",
    "        self.conv = torch.nn.Sequential(\n",
    "            torch.nn.Conv2d(in_channels=3, out_channels=32, kernel_size=(3, 3)),\n",
    "            torch.nn.ReLU(),\n",
    "            torch.nn.BatchNorm2d(32),\n",
    "            torch.nn.Conv2d(in_channels=32, out_channels=64, kernel_size=(5, 5)),\n",
    "            torch.nn.ReLU(),\n",
    "            torch.nn.BatchNorm2d(64),\n",
    "            torch.nn.Conv2d(in_channels=64, out_channels=64, kernel_size=(5, 5)),\n",
    "            torch.nn.ReLU(),\n",
    "            torch.nn.BatchNorm2d(64),\n",
    "        )\n",
    "        \n",
    "        self.flatten = torch.nn.Sequential(torch.nn.AdaptiveMaxPool2d(1), torch.nn.Flatten())\n",
    "        \n",
    "        self.fc = torch.nn.Sequential(\n",
    "            torch.nn.Linear(input_shape, 256),\n",
    "            torch.nn.ReLU(),\n",
    "            torch.nn.Linear(256, 128),\n",
    "            torch.nn.ReLU(),\n",
    "        )\n",
    "        \n",
    "        self.final_fc = torch.nn.Sequential(\n",
    "            torch.nn.Linear(128, 512),\n",
    "            torch.nn.ReLU(),\n",
    "            torch.nn.Linear(512, 256),\n",
    "            torch.nn.ReLU(),\n",
    "            torch.nn.Linear(256, 1)\n",
    "        )\n",
    "        \n",
    "    def forward(self, x):\n",
    "        #img = self.conv(img)\n",
    "        #img = self.flatten(img) \n",
    "        x = self.fc(x)\n",
    "        #combined = torch.cat((img, x), 1)\n",
    "        price = self.final_fc(x)\n",
    "        return price\n",
    "    \n",
    "model_text = Model_text(4)\n",
    "print(model_text)\n",
    "criterion = torch.nn.MSELoss()\n",
    "optimizer = torch.optim.Adam(model_text.parameters(), lr=5e-4)"
   ]
  },
  {
   "cell_type": "code",
   "execution_count": 37,
   "metadata": {
    "execution": {
     "iopub.execute_input": "2022-08-04T13:36:57.769766Z",
     "iopub.status.busy": "2022-08-04T13:36:57.769395Z"
    }
   },
   "outputs": [
    {
     "name": "stdout",
     "output_type": "stream",
     "text": [
      "started!\n",
      "epoch 1/50 finished with train loss: 437007157540.5714 and test loss: 97879577031.11111\n",
      "epoch 2/50 finished with train loss: 103736812105.14285 and test loss: 94723802453.33333\n",
      "epoch 3/50 finished with train loss: 100761466002.28572 and test loss: 93477894826.66667\n",
      "epoch 4/50 finished with train loss: 100136980284.95238 and test loss: 94729922332.44444\n",
      "epoch 5/50 finished with train loss: 100064843288.38095 and test loss: 92815931164.44444\n",
      "epoch 6/50 finished with train loss: 99421043760.7619 and test loss: 93575280412.44444\n",
      "epoch 7/50 finished with train loss: 99636274907.42857 and test loss: 92864044600.88889\n",
      "epoch 8/50 finished with train loss: 100823873048.38095 and test loss: 93579129742.22223\n",
      "epoch 9/50 finished with train loss: 99701705094.09525 and test loss: 92737049031.11111\n",
      "epoch 10/50 finished with train loss: 99535383990.85715 and test loss: 92810834375.11111\n",
      "epoch 11/50 finished with train loss: 100252675120.7619 and test loss: 92722949688.88889\n",
      "epoch 12/50 finished with train loss: 99578302464.0 and test loss: 92561301276.44444\n",
      "epoch 13/50 finished with train loss: 100775449746.28572 and test loss: 93100216775.11111\n",
      "epoch 14/50 finished with train loss: 99560007875.04762 and test loss: 92782075904.0\n",
      "epoch 15/50 finished with train loss: 100053825243.42857 and test loss: 93209282332.44444\n",
      "epoch 16/50 finished with train loss: 100449474462.4762 and test loss: 94974789859.55556\n",
      "epoch 17/50 finished with train loss: 100297307184.7619 and test loss: 92772517205.33333\n",
      "epoch 18/50 finished with train loss: 99422535582.4762 and test loss: 92821696512.0\n",
      "epoch 19/50 finished with train loss: 99767190674.28572 and test loss: 96531571143.11111\n",
      "epoch 20/50 finished with train loss: 100609174381.71428 and test loss: 92927578112.0\n",
      "epoch 21/50 finished with train loss: 99946022034.28572 and test loss: 92912537600.0\n",
      "epoch 22/50 finished with train loss: 99407855030.85715 and test loss: 92647734840.88889\n",
      "epoch 23/50 finished with train loss: 99314763483.42857 and test loss: 92729962951.11111\n",
      "epoch 24/50 finished with train loss: 100143459766.85715 and test loss: 92837490688.0\n",
      "epoch 25/50 finished with train loss: 100981487908.57143 and test loss: 92751427811.55556\n",
      "epoch 26/50 finished with train loss: 99901926546.28572 and test loss: 94058755868.44444\n",
      "epoch 27/50 finished with train loss: 99835194026.66667 and test loss: 92833101141.33333\n",
      "epoch 28/50 finished with train loss: 99728135704.38095 and test loss: 93110745315.55556\n",
      "epoch 29/50 finished with train loss: 99501103201.5238 and test loss: 92779153180.44444\n",
      "epoch 30/50 finished with train loss: 99485324044.19048 and test loss: 94151001884.44444\n",
      "epoch 31/50 finished with train loss: 99925966945.5238 and test loss: 93936338261.33333\n",
      "epoch 32/50 finished with train loss: 99863878704.7619 and test loss: 94557943580.44444\n",
      "epoch 33/50 finished with train loss: 100018695216.7619 and test loss: 92603006520.88889\n",
      "epoch 34/50 finished with train loss: 99792896585.14285 and test loss: 93198868935.11111\n",
      "epoch 35/50 finished with train loss: 100266876928.0 and test loss: 92686921728.0\n",
      "epoch 36/50 finished with train loss: 99531839585.5238 and test loss: 92610286478.22223\n",
      "epoch 37/50 finished with train loss: 99716695771.42857 and test loss: 92897362375.11111\n",
      "epoch 38/50 finished with train loss: 99608957220.57143 and test loss: 92872178346.66667\n",
      "epoch 39/50 finished with train loss: 99292390351.2381 and test loss: 92737311175.11111\n",
      "epoch 40/50 finished with train loss: 99811734674.28572 and test loss: 92981262791.11111\n",
      "epoch 41/50 finished with train loss: 100543985956.57143 and test loss: 92603263203.55556\n",
      "epoch 42/50 finished with train loss: 101054285531.42857 and test loss: 92516892672.0\n",
      "epoch 43/50 finished with train loss: 99129487164.95238 and test loss: 92576169756.44444\n",
      "epoch 44/50 finished with train loss: 99375861955.04762 and test loss: 92470966954.66667\n",
      "epoch 45/50 finished with train loss: 99470881158.09525 and test loss: 92659554076.44444\n",
      "epoch 46/50 finished with train loss: 100086728021.33333 and test loss: 92624393557.33333\n",
      "epoch 47/50 finished with train loss: 99668555093.33333 and test loss: 92654935153.77777\n",
      "epoch 48/50 finished with train loss: 99612756065.5238 and test loss: 97134272739.55556\n",
      "epoch 49/50 finished with train loss: 100064259510.85715 and test loss: 92814110720.0\n",
      "epoch 50/50 finished with train loss: 99482221226.66667 and test loss: 93568209351.11111\n",
      "Wall time: 2min 7s\n"
     ]
    }
   ],
   "source": [
    "%%time\n",
    "\n",
    "n_epochs = 50\n",
    "print('started!')\n",
    "train_losses = []\n",
    "test_losses = []\n",
    "for epoch in range(n_epochs):\n",
    "    train_batch_loss = 0\n",
    "    model_text.train()\n",
    "    for step, batch in enumerate(dataLoader_train):\n",
    "        x = batch[\"x\"]\n",
    "        img = batch[\"img\"]\n",
    "        y = batch[\"y\"]\n",
    "\n",
    "        optimizer.zero_grad()\n",
    "        outputs = model_text(x = x)\n",
    "        loss = criterion(outputs[:,0], y)\n",
    "        loss.backward()\n",
    "        optimizer.step()\n",
    "        train_batch_loss += loss.item()\n",
    "        optimizer.step()\n",
    "        optimizer.zero_grad()\n",
    "\n",
    "    test_batch_loss = 0\n",
    "    model_text.eval()\n",
    "    with torch.no_grad():\n",
    "        for step, batch in enumerate(dataLoader_test):\n",
    "            x = batch[\"x\"]\n",
    "            img = batch[\"img\"]\n",
    "            y = batch[\"y\"]\n",
    "            outputs = model_text(x = x)\n",
    "            loss = criterion(outputs[:,0], y)\n",
    "            test_batch_loss += loss.item()\n",
    "\n",
    "    print('epoch {}/{} finished with train loss: {} and test loss: {}'.format(epoch+1, n_epochs,\n",
    "                                                                              train_batch_loss / len(dataLoader_train),\n",
    "                                                                              test_batch_loss / len(dataLoader_test)))\n",
    "    train_losses.append(train_batch_loss / len(dataLoader_train))\n",
    "    test_losses.append(test_batch_loss / len(dataLoader_test))\n",
    "    \n",
    "    \n",
    "torch.save(model_img.state_dict(), './model_text_input')"
   ]
  },
  {
   "cell_type": "code",
   "execution_count": 39,
   "metadata": {
    "execution": {
     "iopub.execute_input": "2022-08-04T13:33:11.314856Z",
     "iopub.status.busy": "2022-08-04T13:33:11.314493Z",
     "iopub.status.idle": "2022-08-04T13:33:11.352029Z",
     "shell.execute_reply": "2022-08-04T13:33:11.350628Z",
     "shell.execute_reply.started": "2022-08-04T13:33:11.314820Z"
    }
   },
   "outputs": [
    {
     "name": "stdout",
     "output_type": "stream",
     "text": [
      "\n",
      "Test Results :\n",
      "\n",
      "RSS : 429217899269622.25\n",
      "RSE : 305929.8734985313\n",
      "TSS : 616943636836547.1\n",
      "R Squared : 0.30428344885687\n",
      "MSE : 93552288419.70943\n",
      "MAE : 223416.7655092088\n",
      "Accuracy with 10% : 0.17545771578029642\n",
      "\n",
      "Train Results :\n",
      "\n",
      "RSS : 1067009880798253.5\n",
      "RSE : 315741.3473264107\n",
      "TSS : 1549134104234102.5\n",
      "R Squared : 0.31122174776096156\n",
      "MSE : 99673972984.42525\n",
      "MAE : 227825.46787570062\n",
      "Accuracy with 10% : 0.18561419897244277\n"
     ]
    }
   ],
   "source": [
    "def reg_report(true, pred, name='Test'):\n",
    "    print(\"\\n{} Results :\\n\".format(name))\n",
    "    print(\"RSS :\",sum((pred-true)**2))\n",
    "    print(\"RSE :\",math.sqrt(sum((pred-true)**2)*(1/(len(pred)-2))))\n",
    "    print(\"TSS :\",sum((true-true.mean())**2))\n",
    "    print(\"R Squared :\",1-(sum((pred-true)**2)/sum((true-true.mean())**2)))\n",
    "    print(\"MSE :\",((pred-true)**2).mean())\n",
    "    print('MAE :',(abs(pred-true)).mean())\n",
    "    print('Accuracy with 10% :', ((pred<=true*1.1) & (true*0.9<=pred)).mean())\n",
    "    \n",
    "\n",
    "def eval_report(y_train, pred_train,y_test, pred_test):\n",
    "    reg_report(y_train, pred_train, name='Train')\n",
    "    reg_report(y_test, pred_test, name='Test')\n",
    "    \n",
    "def res(dataLoader, name = 'Test'):  \n",
    "    trues = []\n",
    "    preds = []\n",
    "    model_text.eval()\n",
    "    with torch.no_grad():\n",
    "        for step, batch in enumerate(dataLoader):\n",
    "            x = batch[\"x\"]\n",
    "            img = batch[\"img\"]\n",
    "            y = batch[\"y\"]\n",
    "\n",
    "            outputs = model_text(x = x)\n",
    "\n",
    "            trues = trues + y.tolist()\n",
    "            preds = preds + outputs[:,0].tolist()\n",
    "\n",
    "\n",
    "    reg_report(true =  np.array(trues), pred = np.array(preds), name=name)\n",
    "\n",
    "res(dataLoader_test, name = 'Test')\n",
    "res(dataLoader_train, name = 'Train')"
   ]
  },
  {
   "cell_type": "code",
   "execution_count": 40,
   "metadata": {
    "execution": {
     "iopub.status.busy": "2022-08-04T13:33:11.353404Z",
     "iopub.status.idle": "2022-08-04T13:33:11.354158Z",
     "shell.execute_reply": "2022-08-04T13:33:11.353909Z",
     "shell.execute_reply.started": "2022-08-04T13:33:11.353883Z"
    }
   },
   "outputs": [
    {
     "data": {
      "image/png": "[encoded data removed]",
      "text/plain": [
       "<Figure size 432x288 with 1 Axes>"
      ]
     },
     "metadata": {},
     "output_type": "display_data"
    }
   ],
   "source": [
    "import matplotlib.pyplot as plt\n",
    "\n",
    "plt.style.use(\"ggplot\")\n",
    "plt.figure()\n",
    "plt.plot(np.arange(0,len(train_losses)), train_losses, label=\"train_loss\")\n",
    "plt.plot(np.arange(0, len(test_losses)), test_losses, label=\"val_loss\")\n",
    "plt.title(\"Training and val Losses\")\n",
    "plt.xlabel(\"Epoch #\")\n",
    "plt.ylabel(\"Losses\")\n",
    "plt.legend()\n",
    "plt.show()"
   ]
  },
  {
   "cell_type": "code",
   "execution_count": null,
   "metadata": {},
   "outputs": [],
   "source": []
  }
 ],
 "metadata": {
  "kernelspec": {
   "display_name": "Python 3",
   "language": "python",
   "name": "python3"
  },
  "language_info": {
   "codemirror_mode": {
    "name": "ipython",
    "version": 3
   },
   "file_extension": ".py",
   "mimetype": "text/x-python",
   "name": "python",
   "nbconvert_exporter": "python",
   "pygments_lexer": "ipython3",
   "version": "3.7.1"
  }
 },
 "nbformat": 4,
 "nbformat_minor": 4
}
